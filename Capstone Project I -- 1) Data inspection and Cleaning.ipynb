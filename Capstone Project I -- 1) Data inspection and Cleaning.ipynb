{
 "cells": [
  {
   "cell_type": "markdown",
   "metadata": {},
   "source": [
    "# Springboard - Data Science Career Track"
   ]
  },
  {
   "cell_type": "markdown",
   "metadata": {},
   "source": [
    "# Capstone Project I: Kiva.org loan delays"
   ]
  },
  {
   "cell_type": "code",
   "execution_count": 1,
   "metadata": {},
   "outputs": [],
   "source": [
    "# link for the data\n",
    "kiva_url = \"https://www.kaggle.com/lucian18/mpi-on-regions#all_kiva_loans.csv\""
   ]
  },
  {
   "cell_type": "markdown",
   "metadata": {},
   "source": [
    "### Goal of the project:\n",
    "    \n",
    "**Understand what may cause a higher delay between:**\n",
    "\n",
    "-  the \"posted time\" (the time at which the loan is posted on Kiva by the field agent)\n",
    "-  the \"funded time\" (the time at which the loan posted to Kiva gets 100% funded by lenders)\n",
    "- the \"disbursed time\" (the time at which the loan is disbursed by the field agent to the borrower)"
   ]
  },
  {
   "cell_type": "markdown",
   "metadata": {},
   "source": [
    "#### **The journey of a Kiva loan**\n",
    "\n",
    "- A borrower applies for a loan.\n",
    "- The loan goes through the underwriting and approval process\n",
    "- If it is approved, the loan disbursal period starts\n",
    "    - The loan is posted to Kiva for lenders to support\n",
    "    - Fundraising period\n",
    "    - Fundraising complete (or not)\n",
    "- Borrower repays the loan\n",
    "- Lenders use repayments to fund new loans, donate or withdraw the money."
   ]
  },
  {
   "cell_type": "markdown",
   "metadata": {},
   "source": [
    "Partner loans are administered by Kiva’s Field Partners and are available to borrowers in more than 80 countries. Direct loans are made using the digital payment system and don’t involve a Field Partner."
   ]
  },
  {
   "cell_type": "markdown",
   "metadata": {},
   "source": [
    "**Note**: *Disbursal* refers to when the borrower can access the money, but the timing of it can vary:    \n",
    "  - For most Field Partner loans, the money is *pre-disbursed* (when partners give the funds out before the loan is posted), so the borrower can access the funds right away. \n",
    "  - For direct loans, the money is disbursed only after the loan has been fully crowdfunded on the Kiva website."
   ]
  },
  {
   "cell_type": "markdown",
   "metadata": {},
   "source": [
    "### Libraries"
   ]
  },
  {
   "cell_type": "code",
   "execution_count": 2,
   "metadata": {},
   "outputs": [],
   "source": [
    "%matplotlib inline\n",
    "import pandas as pd\n",
    "from datetime import datetime, timedelta\n",
    "import matplotlib.pyplot as plt\n",
    "import seaborn as sns\n",
    "import numpy as np\n",
    "from scipy.stats import zscore, normaltest, shapiro, norm, t\n",
    "from collections import Counter\n",
    "sns.set()\n",
    "from scipy import stats\n",
    "import scipy\n",
    "import statsmodels.api as sm"
   ]
  },
  {
   "cell_type": "markdown",
   "metadata": {},
   "source": [
    "## 1) Data inspection and Cleaning"
   ]
  },
  {
   "cell_type": "code",
   "execution_count": 3,
   "metadata": {},
   "outputs": [],
   "source": [
    "# filename\n",
    "kiva_data = pd.read_csv(\"all_kiva_loans_copy.csv\")"
   ]
  },
  {
   "cell_type": "markdown",
   "metadata": {},
   "source": [
    "### Overview and cleaning"
   ]
  },
  {
   "cell_type": "code",
   "execution_count": 4,
   "metadata": {},
   "outputs": [
    {
     "data": {
      "text/html": [
       "<div>\n",
       "<style scoped>\n",
       "    .dataframe tbody tr th:only-of-type {\n",
       "        vertical-align: middle;\n",
       "    }\n",
       "\n",
       "    .dataframe tbody tr th {\n",
       "        vertical-align: top;\n",
       "    }\n",
       "\n",
       "    .dataframe thead th {\n",
       "        text-align: right;\n",
       "    }\n",
       "</style>\n",
       "<table border=\"1\" class=\"dataframe\">\n",
       "  <thead>\n",
       "    <tr style=\"text-align: right;\">\n",
       "      <th></th>\n",
       "      <th>loan_id</th>\n",
       "      <th>funded_amount</th>\n",
       "      <th>loan_amount</th>\n",
       "      <th>status</th>\n",
       "      <th>activity_name</th>\n",
       "      <th>sector_name</th>\n",
       "      <th>loan_use</th>\n",
       "      <th>country_code</th>\n",
       "      <th>country_name</th>\n",
       "      <th>town_name</th>\n",
       "      <th>...</th>\n",
       "      <th>currency</th>\n",
       "      <th>partner_id</th>\n",
       "      <th>posted_time</th>\n",
       "      <th>planned_expiration_time</th>\n",
       "      <th>disburse_time</th>\n",
       "      <th>raised_time</th>\n",
       "      <th>lender_term</th>\n",
       "      <th>num_lenders_total</th>\n",
       "      <th>borrower_genders</th>\n",
       "      <th>repayment_interval</th>\n",
       "    </tr>\n",
       "  </thead>\n",
       "  <tbody>\n",
       "    <tr>\n",
       "      <th>0</th>\n",
       "      <td>657307</td>\n",
       "      <td>125.0</td>\n",
       "      <td>125.0</td>\n",
       "      <td>funded</td>\n",
       "      <td>General Store</td>\n",
       "      <td>Retail</td>\n",
       "      <td>to buy additional inventories for her sari-sa...</td>\n",
       "      <td>PH</td>\n",
       "      <td>Philippines</td>\n",
       "      <td>Ozamiz - Ozamiz City</td>\n",
       "      <td>...</td>\n",
       "      <td>PHP</td>\n",
       "      <td>126.0</td>\n",
       "      <td>2014-01-15 02:23:45.000 +0000</td>\n",
       "      <td>2014-02-14 03:30:06.000 +0000</td>\n",
       "      <td>2013-12-22 08:00:00.000 +0000</td>\n",
       "      <td>2014-01-15 04:48:22.000 +0000</td>\n",
       "      <td>7.0</td>\n",
       "      <td>3</td>\n",
       "      <td>female</td>\n",
       "      <td>irregular</td>\n",
       "    </tr>\n",
       "    <tr>\n",
       "      <th>1</th>\n",
       "      <td>657259</td>\n",
       "      <td>400.0</td>\n",
       "      <td>400.0</td>\n",
       "      <td>funded</td>\n",
       "      <td>Used Clothing</td>\n",
       "      <td>Clothing</td>\n",
       "      <td>To buy American clothing such as blouses, shir...</td>\n",
       "      <td>HN</td>\n",
       "      <td>Honduras</td>\n",
       "      <td>La Lopez, Choloma</td>\n",
       "      <td>...</td>\n",
       "      <td>HNL</td>\n",
       "      <td>201.0</td>\n",
       "      <td>2014-01-14 20:23:20.000 +0000</td>\n",
       "      <td>2014-03-26 22:25:07.000 +0000</td>\n",
       "      <td>2013-12-20 08:00:00.000 +0000</td>\n",
       "      <td>2014-02-25 06:42:06.000 +0000</td>\n",
       "      <td>8.0</td>\n",
       "      <td>11</td>\n",
       "      <td>female</td>\n",
       "      <td>monthly</td>\n",
       "    </tr>\n",
       "    <tr>\n",
       "      <th>2</th>\n",
       "      <td>658010</td>\n",
       "      <td>400.0</td>\n",
       "      <td>400.0</td>\n",
       "      <td>funded</td>\n",
       "      <td>General Store</td>\n",
       "      <td>Retail</td>\n",
       "      <td>to buy stock of rice, sugar and flour</td>\n",
       "      <td>PK</td>\n",
       "      <td>Pakistan</td>\n",
       "      <td>Lala Musa</td>\n",
       "      <td>...</td>\n",
       "      <td>PKR</td>\n",
       "      <td>245.0</td>\n",
       "      <td>2014-01-16 11:32:58.000 +0000</td>\n",
       "      <td>2014-02-15 21:10:05.000 +0000</td>\n",
       "      <td>2014-01-09 08:00:00.000 +0000</td>\n",
       "      <td>2014-01-24 23:06:18.000 +0000</td>\n",
       "      <td>14.0</td>\n",
       "      <td>16</td>\n",
       "      <td>female</td>\n",
       "      <td>monthly</td>\n",
       "    </tr>\n",
       "  </tbody>\n",
       "</table>\n",
       "<p>3 rows × 21 columns</p>\n",
       "</div>"
      ],
      "text/plain": [
       "   loan_id  funded_amount  loan_amount  status  activity_name sector_name  \\\n",
       "0   657307          125.0        125.0  funded  General Store      Retail   \n",
       "1   657259          400.0        400.0  funded  Used Clothing    Clothing   \n",
       "2   658010          400.0        400.0  funded  General Store      Retail   \n",
       "\n",
       "                                            loan_use country_code  \\\n",
       "0   to buy additional inventories for her sari-sa...           PH   \n",
       "1  To buy American clothing such as blouses, shir...           HN   \n",
       "2              to buy stock of rice, sugar and flour           PK   \n",
       "\n",
       "  country_name             town_name        ...         currency partner_id  \\\n",
       "0  Philippines  Ozamiz - Ozamiz City        ...              PHP      126.0   \n",
       "1     Honduras     La Lopez, Choloma        ...              HNL      201.0   \n",
       "2     Pakistan             Lala Musa        ...              PKR      245.0   \n",
       "\n",
       "                     posted_time        planned_expiration_time  \\\n",
       "0  2014-01-15 02:23:45.000 +0000  2014-02-14 03:30:06.000 +0000   \n",
       "1  2014-01-14 20:23:20.000 +0000  2014-03-26 22:25:07.000 +0000   \n",
       "2  2014-01-16 11:32:58.000 +0000  2014-02-15 21:10:05.000 +0000   \n",
       "\n",
       "                   disburse_time                    raised_time lender_term  \\\n",
       "0  2013-12-22 08:00:00.000 +0000  2014-01-15 04:48:22.000 +0000         7.0   \n",
       "1  2013-12-20 08:00:00.000 +0000  2014-02-25 06:42:06.000 +0000         8.0   \n",
       "2  2014-01-09 08:00:00.000 +0000  2014-01-24 23:06:18.000 +0000        14.0   \n",
       "\n",
       "   num_lenders_total  borrower_genders repayment_interval  \n",
       "0                  3            female          irregular  \n",
       "1                 11            female            monthly  \n",
       "2                 16            female            monthly  \n",
       "\n",
       "[3 rows x 21 columns]"
      ]
     },
     "execution_count": 4,
     "metadata": {},
     "output_type": "execute_result"
    }
   ],
   "source": [
    "kiva_data.head(3)"
   ]
  },
  {
   "cell_type": "code",
   "execution_count": 5,
   "metadata": {},
   "outputs": [
    {
     "name": "stdout",
     "output_type": "stream",
     "text": [
      "<class 'pandas.core.frame.DataFrame'>\n",
      "RangeIndex: 1419607 entries, 0 to 1419606\n",
      "Data columns (total 21 columns):\n",
      "loan_id                    1419607 non-null int64\n",
      "funded_amount              1419607 non-null float64\n",
      "loan_amount                1419607 non-null float64\n",
      "status                     1419607 non-null object\n",
      "activity_name              1419607 non-null object\n",
      "sector_name                1419607 non-null object\n",
      "loan_use                   1376334 non-null object\n",
      "country_code               1419598 non-null object\n",
      "country_name               1419607 non-null object\n",
      "town_name                  1257849 non-null object\n",
      "currency_policy            1419607 non-null object\n",
      "currency                   1419607 non-null object\n",
      "partner_id                 1402817 non-null float64\n",
      "posted_time                1419607 non-null object\n",
      "planned_expiration_time    1047773 non-null object\n",
      "disburse_time              1416794 non-null object\n",
      "raised_time                1355325 non-null object\n",
      "lender_term                1419583 non-null float64\n",
      "num_lenders_total          1419607 non-null int64\n",
      "borrower_genders           1376356 non-null object\n",
      "repayment_interval         1419607 non-null object\n",
      "dtypes: float64(4), int64(2), object(15)\n",
      "memory usage: 227.4+ MB\n"
     ]
    }
   ],
   "source": [
    "kiva_data.info()"
   ]
  },
  {
   "cell_type": "markdown",
   "metadata": {},
   "source": [
    "#### Changing dtpes and labels"
   ]
  },
  {
   "cell_type": "code",
   "execution_count": 6,
   "metadata": {},
   "outputs": [],
   "source": [
    "# Changing some column names, for clarity\n",
    "kiva_data.rename(columns={'disburse_time':'disbursed_time', 'raised_time':'funded_time'}, inplace=True)"
   ]
  },
  {
   "cell_type": "code",
   "execution_count": 7,
   "metadata": {},
   "outputs": [],
   "source": [
    "# change the dtype of the main variables of study to datetime64[ns]\n",
    "kiva_data['posted_time'] = pd.to_datetime(kiva_data['posted_time'], errors='coerce')\n",
    "kiva_data['planned_expiration_time'] = pd.to_datetime(kiva_data['planned_expiration_time'], errors='coerce')\n",
    "kiva_data['disbursed_time'] = pd.to_datetime(kiva_data['disbursed_time'], errors='coerce')\n",
    "kiva_data['funded_time'] = pd.to_datetime(kiva_data['funded_time'], errors='coerce')"
   ]
  },
  {
   "cell_type": "markdown",
   "metadata": {},
   "source": [
    "### Main variables inspection and cleaning"
   ]
  },
  {
   "cell_type": "markdown",
   "metadata": {},
   "source": [
    "#### 1) 'posted_time'"
   ]
  },
  {
   "cell_type": "code",
   "execution_count": 8,
   "metadata": {},
   "outputs": [
    {
     "data": {
      "text/html": [
       "<div>\n",
       "<style scoped>\n",
       "    .dataframe tbody tr th:only-of-type {\n",
       "        vertical-align: middle;\n",
       "    }\n",
       "\n",
       "    .dataframe tbody tr th {\n",
       "        vertical-align: top;\n",
       "    }\n",
       "\n",
       "    .dataframe thead th {\n",
       "        text-align: right;\n",
       "    }\n",
       "</style>\n",
       "<table border=\"1\" class=\"dataframe\">\n",
       "  <thead>\n",
       "    <tr style=\"text-align: right;\">\n",
       "      <th></th>\n",
       "      <th>posted_time</th>\n",
       "      <th>disbursed_time</th>\n",
       "      <th>funded_time</th>\n",
       "    </tr>\n",
       "  </thead>\n",
       "  <tbody>\n",
       "    <tr>\n",
       "      <th>count</th>\n",
       "      <td>1419607</td>\n",
       "      <td>1416794</td>\n",
       "      <td>1355325</td>\n",
       "    </tr>\n",
       "    <tr>\n",
       "      <th>unique</th>\n",
       "      <td>1415162</td>\n",
       "      <td>75668</td>\n",
       "      <td>1137793</td>\n",
       "    </tr>\n",
       "    <tr>\n",
       "      <th>top</th>\n",
       "      <td>2006-04-16 07:10:50</td>\n",
       "      <td>2017-02-01 08:00:00</td>\n",
       "      <td>2005-03-31 06:27:55</td>\n",
       "    </tr>\n",
       "    <tr>\n",
       "      <th>freq</th>\n",
       "      <td>207</td>\n",
       "      <td>2800</td>\n",
       "      <td>203</td>\n",
       "    </tr>\n",
       "    <tr>\n",
       "      <th>first</th>\n",
       "      <td>2006-04-16 07:10:50</td>\n",
       "      <td>2005-04-14 05:27:55</td>\n",
       "      <td>2005-03-31 06:27:55</td>\n",
       "    </tr>\n",
       "    <tr>\n",
       "      <th>last</th>\n",
       "      <td>2018-01-11 07:11:23</td>\n",
       "      <td>2018-03-19 07:00:00</td>\n",
       "      <td>2018-01-11 03:11:44</td>\n",
       "    </tr>\n",
       "  </tbody>\n",
       "</table>\n",
       "</div>"
      ],
      "text/plain": [
       "                posted_time       disbursed_time          funded_time\n",
       "count               1419607              1416794              1355325\n",
       "unique              1415162                75668              1137793\n",
       "top     2006-04-16 07:10:50  2017-02-01 08:00:00  2005-03-31 06:27:55\n",
       "freq                    207                 2800                  203\n",
       "first   2006-04-16 07:10:50  2005-04-14 05:27:55  2005-03-31 06:27:55\n",
       "last    2018-01-11 07:11:23  2018-03-19 07:00:00  2018-01-11 03:11:44"
      ]
     },
     "execution_count": 8,
     "metadata": {},
     "output_type": "execute_result"
    }
   ],
   "source": [
    "# As seen above, there are no missing values and the filled ones seem to be ok\n",
    "kiva_data[['posted_time', 'disbursed_time', 'funded_time']].describe()"
   ]
  },
  {
   "cell_type": "code",
   "execution_count": 9,
   "metadata": {},
   "outputs": [
    {
     "data": {
      "text/plain": [
       "2006-04-16 07:10:50    207\n",
       "2015-05-27 08:05:17      3\n",
       "2008-02-12 22:15:45      3\n",
       "2015-03-12 08:01:30      3\n",
       "2016-04-26 08:08:20      3\n",
       "Name: posted_time, dtype: int64"
      ]
     },
     "execution_count": 9,
     "metadata": {},
     "output_type": "execute_result"
    }
   ],
   "source": [
    "# checking frequency\n",
    "kiva_data['posted_time'].value_counts().head()"
   ]
  },
  {
   "cell_type": "markdown",
   "metadata": {},
   "source": [
    "Apparently the 'posted_time' column is clean"
   ]
  },
  {
   "cell_type": "markdown",
   "metadata": {},
   "source": [
    "#### 2) 'funded_time'"
   ]
  },
  {
   "cell_type": "code",
   "execution_count": 10,
   "metadata": {},
   "outputs": [
    {
     "data": {
      "text/plain": [
       "False    1355325\n",
       "True       64282\n",
       "Name: funded_time, dtype: int64"
      ]
     },
     "execution_count": 10,
     "metadata": {},
     "output_type": "execute_result"
    }
   ],
   "source": [
    "# filled and missing values\n",
    "kiva_data['funded_time'].isna().value_counts()"
   ]
  },
  {
   "cell_type": "markdown",
   "metadata": {},
   "source": [
    "- Regarding the **missing values**, even though some null-values might correspond to loans which were indeed funded (as seen in the example below), there is not a way to know how to fill those values, and I will not consider the following ones for analysis, so that there is no ambiguity. "
   ]
  },
  {
   "cell_type": "code",
   "execution_count": 11,
   "metadata": {},
   "outputs": [
    {
     "data": {
      "text/html": [
       "<div>\n",
       "<style scoped>\n",
       "    .dataframe tbody tr th:only-of-type {\n",
       "        vertical-align: middle;\n",
       "    }\n",
       "\n",
       "    .dataframe tbody tr th {\n",
       "        vertical-align: top;\n",
       "    }\n",
       "\n",
       "    .dataframe thead th {\n",
       "        text-align: right;\n",
       "    }\n",
       "</style>\n",
       "<table border=\"1\" class=\"dataframe\">\n",
       "  <thead>\n",
       "    <tr style=\"text-align: right;\">\n",
       "      <th></th>\n",
       "      <th>loan_id</th>\n",
       "      <th>funded_amount</th>\n",
       "      <th>loan_amount</th>\n",
       "      <th>status</th>\n",
       "      <th>activity_name</th>\n",
       "      <th>sector_name</th>\n",
       "      <th>loan_use</th>\n",
       "      <th>country_code</th>\n",
       "      <th>country_name</th>\n",
       "      <th>town_name</th>\n",
       "      <th>...</th>\n",
       "      <th>currency</th>\n",
       "      <th>partner_id</th>\n",
       "      <th>posted_time</th>\n",
       "      <th>planned_expiration_time</th>\n",
       "      <th>disbursed_time</th>\n",
       "      <th>funded_time</th>\n",
       "      <th>lender_term</th>\n",
       "      <th>num_lenders_total</th>\n",
       "      <th>borrower_genders</th>\n",
       "      <th>repayment_interval</th>\n",
       "    </tr>\n",
       "  </thead>\n",
       "  <tbody>\n",
       "    <tr>\n",
       "      <th>142677</th>\n",
       "      <td>849172</td>\n",
       "      <td>700.0</td>\n",
       "      <td>700.0</td>\n",
       "      <td>expired</td>\n",
       "      <td>Cereals</td>\n",
       "      <td>Food</td>\n",
       "      <td>to buy maize to sell.</td>\n",
       "      <td>UG</td>\n",
       "      <td>Uganda</td>\n",
       "      <td>Hoima</td>\n",
       "      <td>...</td>\n",
       "      <td>UGX</td>\n",
       "      <td>163.0</td>\n",
       "      <td>2015-03-02 13:07:56</td>\n",
       "      <td>2015-04-06 12:20:02</td>\n",
       "      <td>2015-02-18 08:00:00</td>\n",
       "      <td>NaT</td>\n",
       "      <td>12.0</td>\n",
       "      <td>25</td>\n",
       "      <td>male</td>\n",
       "      <td>monthly</td>\n",
       "    </tr>\n",
       "    <tr>\n",
       "      <th>508508</th>\n",
       "      <td>985199</td>\n",
       "      <td>3400.0</td>\n",
       "      <td>3000.0</td>\n",
       "      <td>expired</td>\n",
       "      <td>Farm Supplies</td>\n",
       "      <td>Agriculture</td>\n",
       "      <td>to pay for wires for the grape orchard, cover ...</td>\n",
       "      <td>AM</td>\n",
       "      <td>Armenia</td>\n",
       "      <td>Hoktember village, Armavir region</td>\n",
       "      <td>...</td>\n",
       "      <td>USD</td>\n",
       "      <td>169.0</td>\n",
       "      <td>2015-11-25 10:53:00</td>\n",
       "      <td>2015-12-28 19:20:08</td>\n",
       "      <td>2015-10-29 07:00:00</td>\n",
       "      <td>NaT</td>\n",
       "      <td>38.0</td>\n",
       "      <td>84</td>\n",
       "      <td>male</td>\n",
       "      <td>monthly</td>\n",
       "    </tr>\n",
       "    <tr>\n",
       "      <th>628009</th>\n",
       "      <td>114629</td>\n",
       "      <td>125.0</td>\n",
       "      <td>125.0</td>\n",
       "      <td>refunded</td>\n",
       "      <td>Retail</td>\n",
       "      <td>Retail</td>\n",
       "      <td>NaN</td>\n",
       "      <td>PH</td>\n",
       "      <td>Philippines</td>\n",
       "      <td>NaN</td>\n",
       "      <td>...</td>\n",
       "      <td>PHP</td>\n",
       "      <td>128.0</td>\n",
       "      <td>2009-06-11 01:27:29</td>\n",
       "      <td>NaT</td>\n",
       "      <td>2009-05-29 07:00:00</td>\n",
       "      <td>NaT</td>\n",
       "      <td>12.0</td>\n",
       "      <td>5</td>\n",
       "      <td>NaN</td>\n",
       "      <td>irregular</td>\n",
       "    </tr>\n",
       "    <tr>\n",
       "      <th>657411</th>\n",
       "      <td>38915</td>\n",
       "      <td>1475.0</td>\n",
       "      <td>1475.0</td>\n",
       "      <td>expired</td>\n",
       "      <td>Food Market</td>\n",
       "      <td>Food</td>\n",
       "      <td>To expand fresh food business</td>\n",
       "      <td>UG</td>\n",
       "      <td>Uganda</td>\n",
       "      <td>Nansana</td>\n",
       "      <td>...</td>\n",
       "      <td>UGX</td>\n",
       "      <td>65.0</td>\n",
       "      <td>2008-02-28 07:10:56</td>\n",
       "      <td>NaT</td>\n",
       "      <td>2008-07-22 07:00:00</td>\n",
       "      <td>NaT</td>\n",
       "      <td>NaN</td>\n",
       "      <td>24</td>\n",
       "      <td>female, female, female, female, female</td>\n",
       "      <td>irregular</td>\n",
       "    </tr>\n",
       "    <tr>\n",
       "      <th>809473</th>\n",
       "      <td>924149</td>\n",
       "      <td>425.0</td>\n",
       "      <td>400.0</td>\n",
       "      <td>expired</td>\n",
       "      <td>General Store</td>\n",
       "      <td>Retail</td>\n",
       "      <td>to buy beverages, rice, laundry detergent, sug...</td>\n",
       "      <td>MZ</td>\n",
       "      <td>Mozambique</td>\n",
       "      <td>Boane, Maputo</td>\n",
       "      <td>...</td>\n",
       "      <td>MZN</td>\n",
       "      <td>23.0</td>\n",
       "      <td>2015-07-28 07:14:04</td>\n",
       "      <td>2015-09-09 18:30:02</td>\n",
       "      <td>2015-07-22 07:00:00</td>\n",
       "      <td>NaT</td>\n",
       "      <td>17.0</td>\n",
       "      <td>11</td>\n",
       "      <td>male</td>\n",
       "      <td>monthly</td>\n",
       "    </tr>\n",
       "    <tr>\n",
       "      <th>861839</th>\n",
       "      <td>147</td>\n",
       "      <td>1000.0</td>\n",
       "      <td>1000.0</td>\n",
       "      <td>refunded</td>\n",
       "      <td>Farming</td>\n",
       "      <td>Agriculture</td>\n",
       "      <td>NaN</td>\n",
       "      <td>BG</td>\n",
       "      <td>Bulgaria</td>\n",
       "      <td>NaN</td>\n",
       "      <td>...</td>\n",
       "      <td>USD</td>\n",
       "      <td>3.0</td>\n",
       "      <td>2006-04-16 07:10:50</td>\n",
       "      <td>NaT</td>\n",
       "      <td>2006-03-15 05:00:00</td>\n",
       "      <td>NaT</td>\n",
       "      <td>6.0</td>\n",
       "      <td>16</td>\n",
       "      <td>NaN</td>\n",
       "      <td>bullet</td>\n",
       "    </tr>\n",
       "    <tr>\n",
       "      <th>1368801</th>\n",
       "      <td>408534</td>\n",
       "      <td>1275.0</td>\n",
       "      <td>1275.0</td>\n",
       "      <td>expired</td>\n",
       "      <td>Agriculture</td>\n",
       "      <td>Agriculture</td>\n",
       "      <td>To buy the inventory for his fruit and vegetab...</td>\n",
       "      <td>AZ</td>\n",
       "      <td>Azerbaijan</td>\n",
       "      <td>NaN</td>\n",
       "      <td>...</td>\n",
       "      <td>AZN</td>\n",
       "      <td>207.0</td>\n",
       "      <td>2012-03-24 13:05:34</td>\n",
       "      <td>2012-05-02 15:00:03</td>\n",
       "      <td>2012-03-07 08:00:00</td>\n",
       "      <td>NaT</td>\n",
       "      <td>20.0</td>\n",
       "      <td>44</td>\n",
       "      <td>female</td>\n",
       "      <td>monthly</td>\n",
       "    </tr>\n",
       "  </tbody>\n",
       "</table>\n",
       "<p>7 rows × 21 columns</p>\n",
       "</div>"
      ],
      "text/plain": [
       "         loan_id  funded_amount  loan_amount    status  activity_name  \\\n",
       "142677    849172          700.0        700.0   expired        Cereals   \n",
       "508508    985199         3400.0       3000.0   expired  Farm Supplies   \n",
       "628009    114629          125.0        125.0  refunded         Retail   \n",
       "657411     38915         1475.0       1475.0   expired    Food Market   \n",
       "809473    924149          425.0        400.0   expired  General Store   \n",
       "861839       147         1000.0       1000.0  refunded        Farming   \n",
       "1368801   408534         1275.0       1275.0   expired    Agriculture   \n",
       "\n",
       "         sector_name                                           loan_use  \\\n",
       "142677          Food                              to buy maize to sell.   \n",
       "508508   Agriculture  to pay for wires for the grape orchard, cover ...   \n",
       "628009        Retail                                                NaN   \n",
       "657411          Food                      To expand fresh food business   \n",
       "809473        Retail  to buy beverages, rice, laundry detergent, sug...   \n",
       "861839   Agriculture                                                NaN   \n",
       "1368801  Agriculture  To buy the inventory for his fruit and vegetab...   \n",
       "\n",
       "        country_code country_name                          town_name  \\\n",
       "142677            UG       Uganda                              Hoima   \n",
       "508508            AM      Armenia  Hoktember village, Armavir region   \n",
       "628009            PH  Philippines                                NaN   \n",
       "657411            UG       Uganda                            Nansana   \n",
       "809473            MZ   Mozambique                      Boane, Maputo   \n",
       "861839            BG     Bulgaria                                NaN   \n",
       "1368801           AZ   Azerbaijan                                NaN   \n",
       "\n",
       "               ...         currency partner_id         posted_time  \\\n",
       "142677         ...              UGX      163.0 2015-03-02 13:07:56   \n",
       "508508         ...              USD      169.0 2015-11-25 10:53:00   \n",
       "628009         ...              PHP      128.0 2009-06-11 01:27:29   \n",
       "657411         ...              UGX       65.0 2008-02-28 07:10:56   \n",
       "809473         ...              MZN       23.0 2015-07-28 07:14:04   \n",
       "861839         ...              USD        3.0 2006-04-16 07:10:50   \n",
       "1368801        ...              AZN      207.0 2012-03-24 13:05:34   \n",
       "\n",
       "        planned_expiration_time      disbursed_time funded_time lender_term  \\\n",
       "142677      2015-04-06 12:20:02 2015-02-18 08:00:00         NaT        12.0   \n",
       "508508      2015-12-28 19:20:08 2015-10-29 07:00:00         NaT        38.0   \n",
       "628009                      NaT 2009-05-29 07:00:00         NaT        12.0   \n",
       "657411                      NaT 2008-07-22 07:00:00         NaT         NaN   \n",
       "809473      2015-09-09 18:30:02 2015-07-22 07:00:00         NaT        17.0   \n",
       "861839                      NaT 2006-03-15 05:00:00         NaT         6.0   \n",
       "1368801     2012-05-02 15:00:03 2012-03-07 08:00:00         NaT        20.0   \n",
       "\n",
       "         num_lenders_total                        borrower_genders  \\\n",
       "142677                  25                                    male   \n",
       "508508                  84                                    male   \n",
       "628009                   5                                     NaN   \n",
       "657411                  24  female, female, female, female, female   \n",
       "809473                  11                                    male   \n",
       "861839                  16                                     NaN   \n",
       "1368801                 44                                  female   \n",
       "\n",
       "        repayment_interval  \n",
       "142677             monthly  \n",
       "508508             monthly  \n",
       "628009           irregular  \n",
       "657411           irregular  \n",
       "809473             monthly  \n",
       "861839              bullet  \n",
       "1368801            monthly  \n",
       "\n",
       "[7 rows x 21 columns]"
      ]
     },
     "execution_count": 11,
     "metadata": {},
     "output_type": "execute_result"
    }
   ],
   "source": [
    "# rows where there is a missing value in funded_time but (loan_amount - funded_amount) <= 0\n",
    "\n",
    "missing_ft = kiva_data[kiva_data['funded_time'].isna()] \n",
    "missing_ft[(missing_ft['loan_amount'] - missing_ft['funded_amount']) <= 0]\n",
    "\n",
    "# Note: I considered ok when the funded_amount was larger than the loan_amount, hence the <"
   ]
  },
  {
   "cell_type": "markdown",
   "metadata": {},
   "source": [
    "The remaining missing values will be kept due to several reasons. Not every loan is funded, or when there is a filled value in funded_amount, because the loan may not be completely funded yet, that is, the funded_amount is smaller than the loan_amount."
   ]
  },
  {
   "cell_type": "markdown",
   "metadata": {},
   "source": [
    "- Regarding the **filled values**, there are 2 columns with which we can compare to check if there are discrepancies:\n",
    "\n",
    "    - funded_amount and status"
   ]
  },
  {
   "cell_type": "markdown",
   "metadata": {},
   "source": [
    "*'funded_time' vs 'funded_amount'*"
   ]
  },
  {
   "cell_type": "code",
   "execution_count": 12,
   "metadata": {},
   "outputs": [
    {
     "data": {
      "text/plain": [
       "funded_time      1355325\n",
       "funded_amount    1355325\n",
       "dtype: int64"
      ]
     },
     "execution_count": 12,
     "metadata": {},
     "output_type": "execute_result"
    }
   ],
   "source": [
    "# Comparing with the funded_amount column, there are no discrepancies\n",
    "kiva_data[(kiva_data['funded_time'].notnull()) & (kiva_data['funded_amount'] > 0)].count()[['funded_time', 'funded_amount']]"
   ]
  },
  {
   "cell_type": "code",
   "execution_count": 13,
   "metadata": {},
   "outputs": [
    {
     "data": {
      "text/html": [
       "<div>\n",
       "<style scoped>\n",
       "    .dataframe tbody tr th:only-of-type {\n",
       "        vertical-align: middle;\n",
       "    }\n",
       "\n",
       "    .dataframe tbody tr th {\n",
       "        vertical-align: top;\n",
       "    }\n",
       "\n",
       "    .dataframe thead th {\n",
       "        text-align: right;\n",
       "    }\n",
       "</style>\n",
       "<table border=\"1\" class=\"dataframe\">\n",
       "  <thead>\n",
       "    <tr style=\"text-align: right;\">\n",
       "      <th></th>\n",
       "      <th>loan_id</th>\n",
       "      <th>funded_amount</th>\n",
       "      <th>loan_amount</th>\n",
       "      <th>status</th>\n",
       "      <th>activity_name</th>\n",
       "      <th>sector_name</th>\n",
       "      <th>loan_use</th>\n",
       "      <th>country_code</th>\n",
       "      <th>country_name</th>\n",
       "      <th>town_name</th>\n",
       "      <th>...</th>\n",
       "      <th>currency</th>\n",
       "      <th>partner_id</th>\n",
       "      <th>posted_time</th>\n",
       "      <th>planned_expiration_time</th>\n",
       "      <th>disbursed_time</th>\n",
       "      <th>funded_time</th>\n",
       "      <th>lender_term</th>\n",
       "      <th>num_lenders_total</th>\n",
       "      <th>borrower_genders</th>\n",
       "      <th>repayment_interval</th>\n",
       "    </tr>\n",
       "  </thead>\n",
       "  <tbody>\n",
       "    <tr>\n",
       "      <th>60715</th>\n",
       "      <td>57210</td>\n",
       "      <td>925.0</td>\n",
       "      <td>950.0</td>\n",
       "      <td>funded</td>\n",
       "      <td>Clothing</td>\n",
       "      <td>Clothing</td>\n",
       "      <td>Increase business capital</td>\n",
       "      <td>RW</td>\n",
       "      <td>Rwanda</td>\n",
       "      <td>Gasabo/Buliza/Rwanda</td>\n",
       "      <td>...</td>\n",
       "      <td>RWF</td>\n",
       "      <td>117.0</td>\n",
       "      <td>2008-07-17 15:59:58</td>\n",
       "      <td>NaT</td>\n",
       "      <td>2008-08-05 07:00:00</td>\n",
       "      <td>2008-07-22 18:26:42</td>\n",
       "      <td>14.0</td>\n",
       "      <td>35</td>\n",
       "      <td>female</td>\n",
       "      <td>monthly</td>\n",
       "    </tr>\n",
       "    <tr>\n",
       "      <th>233811</th>\n",
       "      <td>44276</td>\n",
       "      <td>475.0</td>\n",
       "      <td>500.0</td>\n",
       "      <td>funded</td>\n",
       "      <td>Food Production/Sales</td>\n",
       "      <td>Food</td>\n",
       "      <td>NaN</td>\n",
       "      <td>KE</td>\n",
       "      <td>Kenya</td>\n",
       "      <td>NaN</td>\n",
       "      <td>...</td>\n",
       "      <td>KES</td>\n",
       "      <td>36.0</td>\n",
       "      <td>2008-04-08 13:26:42</td>\n",
       "      <td>NaT</td>\n",
       "      <td>2008-05-03 05:39:35</td>\n",
       "      <td>2008-04-19 05:39:35</td>\n",
       "      <td>14.0</td>\n",
       "      <td>14</td>\n",
       "      <td>NaN</td>\n",
       "      <td>monthly</td>\n",
       "    </tr>\n",
       "    <tr>\n",
       "      <th>518536</th>\n",
       "      <td>48958</td>\n",
       "      <td>25.0</td>\n",
       "      <td>950.0</td>\n",
       "      <td>refunded</td>\n",
       "      <td>Food Production/Sales</td>\n",
       "      <td>Food</td>\n",
       "      <td>NaN</td>\n",
       "      <td>SN</td>\n",
       "      <td>Senegal</td>\n",
       "      <td>NaN</td>\n",
       "      <td>...</td>\n",
       "      <td>XOF</td>\n",
       "      <td>105.0</td>\n",
       "      <td>2008-05-15 16:09:47</td>\n",
       "      <td>NaT</td>\n",
       "      <td>2008-05-31 07:00:00</td>\n",
       "      <td>2008-05-17 22:33:56</td>\n",
       "      <td>8.0</td>\n",
       "      <td>1</td>\n",
       "      <td>NaN</td>\n",
       "      <td>monthly</td>\n",
       "    </tr>\n",
       "    <tr>\n",
       "      <th>577064</th>\n",
       "      <td>745</td>\n",
       "      <td>125.0</td>\n",
       "      <td>1000.0</td>\n",
       "      <td>refunded</td>\n",
       "      <td>Sewing</td>\n",
       "      <td>Services</td>\n",
       "      <td>NaN</td>\n",
       "      <td>KH</td>\n",
       "      <td>Cambodia</td>\n",
       "      <td>NaN</td>\n",
       "      <td>...</td>\n",
       "      <td>USD</td>\n",
       "      <td>9.0</td>\n",
       "      <td>2006-08-18 09:12:23</td>\n",
       "      <td>NaT</td>\n",
       "      <td>2006-09-11 02:34:47</td>\n",
       "      <td>2006-08-28 02:34:47</td>\n",
       "      <td>21.0</td>\n",
       "      <td>4</td>\n",
       "      <td>NaN</td>\n",
       "      <td>monthly</td>\n",
       "    </tr>\n",
       "  </tbody>\n",
       "</table>\n",
       "<p>4 rows × 21 columns</p>\n",
       "</div>"
      ],
      "text/plain": [
       "        loan_id  funded_amount  loan_amount    status          activity_name  \\\n",
       "60715     57210          925.0        950.0    funded               Clothing   \n",
       "233811    44276          475.0        500.0    funded  Food Production/Sales   \n",
       "518536    48958           25.0        950.0  refunded  Food Production/Sales   \n",
       "577064      745          125.0       1000.0  refunded                 Sewing   \n",
       "\n",
       "       sector_name                   loan_use country_code country_name  \\\n",
       "60715     Clothing  Increase business capital           RW       Rwanda   \n",
       "233811        Food                        NaN           KE        Kenya   \n",
       "518536        Food                        NaN           SN      Senegal   \n",
       "577064    Services                        NaN           KH     Cambodia   \n",
       "\n",
       "                   town_name        ...         currency partner_id  \\\n",
       "60715   Gasabo/Buliza/Rwanda        ...              RWF      117.0   \n",
       "233811                   NaN        ...              KES       36.0   \n",
       "518536                   NaN        ...              XOF      105.0   \n",
       "577064                   NaN        ...              USD        9.0   \n",
       "\n",
       "               posted_time planned_expiration_time      disbursed_time  \\\n",
       "60715  2008-07-17 15:59:58                     NaT 2008-08-05 07:00:00   \n",
       "233811 2008-04-08 13:26:42                     NaT 2008-05-03 05:39:35   \n",
       "518536 2008-05-15 16:09:47                     NaT 2008-05-31 07:00:00   \n",
       "577064 2006-08-18 09:12:23                     NaT 2006-09-11 02:34:47   \n",
       "\n",
       "               funded_time lender_term  num_lenders_total  borrower_genders  \\\n",
       "60715  2008-07-22 18:26:42        14.0                 35            female   \n",
       "233811 2008-04-19 05:39:35        14.0                 14               NaN   \n",
       "518536 2008-05-17 22:33:56         8.0                  1               NaN   \n",
       "577064 2006-08-28 02:34:47        21.0                  4               NaN   \n",
       "\n",
       "       repayment_interval  \n",
       "60715             monthly  \n",
       "233811            monthly  \n",
       "518536            monthly  \n",
       "577064            monthly  \n",
       "\n",
       "[4 rows x 21 columns]"
      ]
     },
     "execution_count": 13,
     "metadata": {},
     "output_type": "execute_result"
    }
   ],
   "source": [
    "# However, when looking at the difference between loan_amount and funded_amount, we notice inconsistency in the data\n",
    "ft_notnull = kiva_data[kiva_data['funded_time'].notnull()] \n",
    "ft_notnull[(ft_notnull['loan_amount'] - ft_notnull['funded_amount']) > 0] \n",
    "\n",
    "# Note: the funded_time is only filled when the loan is 100% funded by lenders"
   ]
  },
  {
   "cell_type": "markdown",
   "metadata": {},
   "source": [
    "Therefore, I will not consider these rows too, so the data is clear."
   ]
  },
  {
   "cell_type": "markdown",
   "metadata": {},
   "source": [
    "*'funded_time' vs 'status'*"
   ]
  },
  {
   "cell_type": "code",
   "execution_count": 14,
   "metadata": {},
   "outputs": [
    {
     "data": {
      "text/html": [
       "<div>\n",
       "<style scoped>\n",
       "    .dataframe tbody tr th:only-of-type {\n",
       "        vertical-align: middle;\n",
       "    }\n",
       "\n",
       "    .dataframe tbody tr th {\n",
       "        vertical-align: top;\n",
       "    }\n",
       "\n",
       "    .dataframe thead th {\n",
       "        text-align: right;\n",
       "    }\n",
       "</style>\n",
       "<table border=\"1\" class=\"dataframe\">\n",
       "  <thead>\n",
       "    <tr style=\"text-align: right;\">\n",
       "      <th></th>\n",
       "      <th>posted_time</th>\n",
       "      <th>funded_time</th>\n",
       "      <th>status</th>\n",
       "    </tr>\n",
       "  </thead>\n",
       "  <tbody>\n",
       "    <tr>\n",
       "      <th>count</th>\n",
       "      <td>1419607</td>\n",
       "      <td>1355325</td>\n",
       "      <td>1419607</td>\n",
       "    </tr>\n",
       "    <tr>\n",
       "      <th>unique</th>\n",
       "      <td>1415162</td>\n",
       "      <td>1137793</td>\n",
       "      <td>4</td>\n",
       "    </tr>\n",
       "    <tr>\n",
       "      <th>top</th>\n",
       "      <td>2006-04-16 07:10:50</td>\n",
       "      <td>2005-03-31 06:27:55</td>\n",
       "      <td>funded</td>\n",
       "    </tr>\n",
       "    <tr>\n",
       "      <th>freq</th>\n",
       "      <td>207</td>\n",
       "      <td>203</td>\n",
       "      <td>1350340</td>\n",
       "    </tr>\n",
       "    <tr>\n",
       "      <th>first</th>\n",
       "      <td>2006-04-16 07:10:50</td>\n",
       "      <td>2005-03-31 06:27:55</td>\n",
       "      <td>NaN</td>\n",
       "    </tr>\n",
       "    <tr>\n",
       "      <th>last</th>\n",
       "      <td>2018-01-11 07:11:23</td>\n",
       "      <td>2018-01-11 03:11:44</td>\n",
       "      <td>NaN</td>\n",
       "    </tr>\n",
       "  </tbody>\n",
       "</table>\n",
       "</div>"
      ],
      "text/plain": [
       "                posted_time          funded_time   status\n",
       "count               1419607              1355325  1419607\n",
       "unique              1415162              1137793        4\n",
       "top     2006-04-16 07:10:50  2005-03-31 06:27:55   funded\n",
       "freq                    207                  203  1350340\n",
       "first   2006-04-16 07:10:50  2005-03-31 06:27:55      NaN\n",
       "last    2018-01-11 07:11:23  2018-01-11 03:11:44      NaN"
      ]
     },
     "execution_count": 14,
     "metadata": {},
     "output_type": "execute_result"
    }
   ],
   "source": [
    "# Comparing with the status column:\n",
    "\n",
    "# datetime and status columns described\n",
    "kiva_data[['posted_time', 'funded_time', 'status']].describe()"
   ]
  },
  {
   "cell_type": "code",
   "execution_count": 15,
   "metadata": {},
   "outputs": [
    {
     "data": {
      "text/plain": [
       "funded         1350340\n",
       "expired          59081\n",
       "refunded          6578\n",
       "fundRaising       3608\n",
       "Name: status, dtype: int64"
      ]
     },
     "execution_count": 15,
     "metadata": {},
     "output_type": "execute_result"
    }
   ],
   "source": [
    "# status column variables\n",
    "kiva_data['status'].value_counts()"
   ]
  },
  {
   "cell_type": "code",
   "execution_count": 16,
   "metadata": {},
   "outputs": [
    {
     "data": {
      "text/plain": [
       "funded_time    1350340\n",
       "status         1350340\n",
       "dtype: int64"
      ]
     },
     "execution_count": 16,
     "metadata": {},
     "output_type": "execute_result"
    }
   ],
   "source": [
    "# comparing funded_time non nulls with 'status':funded\n",
    "\n",
    "kiva_data[(kiva_data['status'] == 'funded') & (kiva_data['funded_time'].notnull())].count()[['funded_time', 'status']]"
   ]
  },
  {
   "cell_type": "markdown",
   "metadata": {},
   "source": [
    "Whenever the loan is described as 'funded', a corresponding value appears in the 'funded_time' column."
   ]
  },
  {
   "cell_type": "code",
   "execution_count": 17,
   "metadata": {},
   "outputs": [
    {
     "data": {
      "text/plain": [
       "funded_time    4983\n",
       "status         4983\n",
       "dtype: int64"
      ]
     },
     "execution_count": 17,
     "metadata": {},
     "output_type": "execute_result"
    }
   ],
   "source": [
    "# comparing funded_time non nulls with 'status' = refunded\n",
    "\n",
    "kiva_data[(kiva_data['status'] == 'refunded') & (kiva_data['funded_time'].notnull())].count()[['funded_time', 'status']]"
   ]
  },
  {
   "cell_type": "markdown",
   "metadata": {},
   "source": [
    "Whenever the loan is described as 'refunded', a corresponding value appears in the 'funded_time' column."
   ]
  },
  {
   "cell_type": "markdown",
   "metadata": {},
   "source": [
    "We can see that the sum of the rows where the status is indicated as 'funded' with the ones where it is indicated as 'refunded' has less 2 values than the total number of 'funded_time' values"
   ]
  },
  {
   "cell_type": "code",
   "execution_count": 18,
   "metadata": {},
   "outputs": [
    {
     "data": {
      "text/plain": [
       "2"
      ]
     },
     "execution_count": 18,
     "metadata": {},
     "output_type": "execute_result"
    }
   ],
   "source": [
    "# funded_time non nulls with 'status':funded\n",
    "ft_f = kiva_data[(kiva_data['status'] == 'funded') & (kiva_data['funded_time'].notnull())].count().status \n",
    "\n",
    "# funded_time non nulls with 'status' = refunded\n",
    "ft_ref = kiva_data[(kiva_data['status'] == 'refunded') & (kiva_data['funded_time'].notnull())].count().status\n",
    "\n",
    "# funded_time total non nulls\n",
    "ft_tot = kiva_data['funded_time'].count()\n",
    "\n",
    "ft_tot - (ft_f + ft_ref)"
   ]
  },
  {
   "cell_type": "code",
   "execution_count": 19,
   "metadata": {},
   "outputs": [
    {
     "data": {
      "text/html": [
       "<div>\n",
       "<style scoped>\n",
       "    .dataframe tbody tr th:only-of-type {\n",
       "        vertical-align: middle;\n",
       "    }\n",
       "\n",
       "    .dataframe tbody tr th {\n",
       "        vertical-align: top;\n",
       "    }\n",
       "\n",
       "    .dataframe thead th {\n",
       "        text-align: right;\n",
       "    }\n",
       "</style>\n",
       "<table border=\"1\" class=\"dataframe\">\n",
       "  <thead>\n",
       "    <tr style=\"text-align: right;\">\n",
       "      <th></th>\n",
       "      <th>loan_id</th>\n",
       "      <th>funded_amount</th>\n",
       "      <th>loan_amount</th>\n",
       "      <th>status</th>\n",
       "      <th>activity_name</th>\n",
       "      <th>sector_name</th>\n",
       "      <th>loan_use</th>\n",
       "      <th>country_code</th>\n",
       "      <th>country_name</th>\n",
       "      <th>town_name</th>\n",
       "      <th>...</th>\n",
       "      <th>currency</th>\n",
       "      <th>partner_id</th>\n",
       "      <th>posted_time</th>\n",
       "      <th>planned_expiration_time</th>\n",
       "      <th>disbursed_time</th>\n",
       "      <th>funded_time</th>\n",
       "      <th>lender_term</th>\n",
       "      <th>num_lenders_total</th>\n",
       "      <th>borrower_genders</th>\n",
       "      <th>repayment_interval</th>\n",
       "    </tr>\n",
       "  </thead>\n",
       "  <tbody>\n",
       "    <tr>\n",
       "      <th>926652</th>\n",
       "      <td>601656</td>\n",
       "      <td>925.0</td>\n",
       "      <td>925.0</td>\n",
       "      <td>expired</td>\n",
       "      <td>Home Products Sales</td>\n",
       "      <td>Retail</td>\n",
       "      <td>to purchase clothing and household items for r...</td>\n",
       "      <td>GE</td>\n",
       "      <td>Georgia</td>\n",
       "      <td>Vani</td>\n",
       "      <td>...</td>\n",
       "      <td>GEL</td>\n",
       "      <td>181.0</td>\n",
       "      <td>2013-08-29 13:43:33</td>\n",
       "      <td>2013-10-03 15:10:02</td>\n",
       "      <td>2013-07-31 07:00:00</td>\n",
       "      <td>2013-10-03 15:16:01</td>\n",
       "      <td>15.0</td>\n",
       "      <td>29</td>\n",
       "      <td>female</td>\n",
       "      <td>monthly</td>\n",
       "    </tr>\n",
       "    <tr>\n",
       "      <th>1144537</th>\n",
       "      <td>149173</td>\n",
       "      <td>4600.0</td>\n",
       "      <td>4600.0</td>\n",
       "      <td>expired</td>\n",
       "      <td>Retail</td>\n",
       "      <td>Retail</td>\n",
       "      <td>Increase working capital</td>\n",
       "      <td>BO</td>\n",
       "      <td>Bolivia</td>\n",
       "      <td>NaN</td>\n",
       "      <td>...</td>\n",
       "      <td>BOB</td>\n",
       "      <td>73.0</td>\n",
       "      <td>2009-10-30 20:19:53</td>\n",
       "      <td>NaT</td>\n",
       "      <td>2009-10-29 07:00:00</td>\n",
       "      <td>2009-12-01 07:12:13</td>\n",
       "      <td>8.0</td>\n",
       "      <td>125</td>\n",
       "      <td>female, female, female, female, female, female...</td>\n",
       "      <td>monthly</td>\n",
       "    </tr>\n",
       "  </tbody>\n",
       "</table>\n",
       "<p>2 rows × 21 columns</p>\n",
       "</div>"
      ],
      "text/plain": [
       "         loan_id  funded_amount  loan_amount   status        activity_name  \\\n",
       "926652    601656          925.0        925.0  expired  Home Products Sales   \n",
       "1144537   149173         4600.0       4600.0  expired               Retail   \n",
       "\n",
       "        sector_name                                           loan_use  \\\n",
       "926652       Retail  to purchase clothing and household items for r...   \n",
       "1144537      Retail                           Increase working capital   \n",
       "\n",
       "        country_code country_name town_name        ...         currency  \\\n",
       "926652            GE      Georgia      Vani        ...              GEL   \n",
       "1144537           BO      Bolivia       NaN        ...              BOB   \n",
       "\n",
       "        partner_id         posted_time planned_expiration_time  \\\n",
       "926652       181.0 2013-08-29 13:43:33     2013-10-03 15:10:02   \n",
       "1144537       73.0 2009-10-30 20:19:53                     NaT   \n",
       "\n",
       "             disbursed_time         funded_time lender_term  \\\n",
       "926652  2013-07-31 07:00:00 2013-10-03 15:16:01        15.0   \n",
       "1144537 2009-10-29 07:00:00 2009-12-01 07:12:13         8.0   \n",
       "\n",
       "         num_lenders_total                                   borrower_genders  \\\n",
       "926652                  29                                             female   \n",
       "1144537                125  female, female, female, female, female, female...   \n",
       "\n",
       "        repayment_interval  \n",
       "926652             monthly  \n",
       "1144537            monthly  \n",
       "\n",
       "[2 rows x 21 columns]"
      ]
     },
     "execution_count": 19,
     "metadata": {},
     "output_type": "execute_result"
    }
   ],
   "source": [
    "# comparing funded_time non nulls with 'status' = expired\n",
    "\n",
    "kiva_data[(kiva_data['status'] == 'expired') & (kiva_data['funded_time'].notnull())]"
   ]
  },
  {
   "cell_type": "markdown",
   "metadata": {},
   "source": [
    "We have two loans requests which supposedly expired but, at the same time, two values for the 'funded_time' column are filled.\n",
    "\n",
    "In this case, however, the remaining variables seem to indicate that the loan was indeed funded, so I will consider them for analysis. \n",
    "For example, in the first case, what probably classified the status as expired was the fact that the funded_time was slightly after (6 minutes) the planned_expiration_time.\n",
    "\n",
    "These two values are the ones which were missing from the previous analysis.\n",
    "\n",
    "I will change the status in these two cases to 'funded'."
   ]
  },
  {
   "cell_type": "code",
   "execution_count": 20,
   "metadata": {},
   "outputs": [],
   "source": [
    "to_replace = (kiva_data['status'] == 'expired') & (kiva_data['funded_time'].notnull())\n",
    "\n",
    "kiva_data.loc[to_replace, 'status'] = 'funded'"
   ]
  },
  {
   "cell_type": "code",
   "execution_count": 21,
   "metadata": {},
   "outputs": [
    {
     "data": {
      "text/plain": [
       "funded_time    0\n",
       "status         0\n",
       "dtype: int64"
      ]
     },
     "execution_count": 21,
     "metadata": {},
     "output_type": "execute_result"
    }
   ],
   "source": [
    "# comparing funded_time non nulls with 'status' = fundRaising\n",
    "\n",
    "kiva_data[(kiva_data['status'] == 'fundRaising') & (kiva_data['funded_time'].notnull())].count()[['funded_time', 'status']]"
   ]
  },
  {
   "cell_type": "markdown",
   "metadata": {},
   "source": [
    "Therefore, I will consider all values in the 'funded_time' series, null and non-null, with the exception of the following cases:"
   ]
  },
  {
   "cell_type": "code",
   "execution_count": 22,
   "metadata": {},
   "outputs": [],
   "source": [
    "# rows where there is a missing value in funded_time but (loan_amount - funded_amount) <= 0\n",
    "missing_ft = kiva_data[kiva_data['funded_time'].isna()] \n",
    "not_rows = missing_ft[(missing_ft['loan_amount'] - missing_ft['funded_amount']) <= 0]\n",
    "\n",
    "# and\n",
    "\n",
    "# rows where funded_time is not null but (loan_amount - funded_amount) > 0\n",
    "ft_notnull = kiva_data[kiva_data['funded_time'].notnull()] \n",
    "not_rows_2 = ft_notnull[(ft_notnull['loan_amount'] - ft_notnull['funded_amount']) > 0]"
   ]
  },
  {
   "cell_type": "markdown",
   "metadata": {},
   "source": [
    "I will use a new dataframe named data"
   ]
  },
  {
   "cell_type": "code",
   "execution_count": 23,
   "metadata": {},
   "outputs": [],
   "source": [
    "# removing the rows\n",
    "data = kiva_data.drop(not_rows.index)\n",
    "data = data.drop(not_rows_2.index)"
   ]
  },
  {
   "cell_type": "code",
   "execution_count": 24,
   "metadata": {},
   "outputs": [
    {
     "data": {
      "text/plain": [
       "(1419596, 21)"
      ]
     },
     "execution_count": 24,
     "metadata": {},
     "output_type": "execute_result"
    }
   ],
   "source": [
    "# new shape\n",
    "data.shape"
   ]
  },
  {
   "cell_type": "markdown",
   "metadata": {},
   "source": [
    "#### 3) 'disbursed_time'"
   ]
  },
  {
   "cell_type": "code",
   "execution_count": 25,
   "metadata": {},
   "outputs": [
    {
     "data": {
      "text/plain": [
       "False    1416783\n",
       "True        2813\n",
       "Name: disbursed_time, dtype: int64"
      ]
     },
     "execution_count": 25,
     "metadata": {},
     "output_type": "execute_result"
    }
   ],
   "source": [
    "# filled and missing values\n",
    "data['disbursed_time'].isna().value_counts()"
   ]
  },
  {
   "cell_type": "markdown",
   "metadata": {},
   "source": [
    "- Regarding the **missing values**:"
   ]
  },
  {
   "cell_type": "markdown",
   "metadata": {},
   "source": [
    "It may be the case that there was a posted_time or funded_time but the disbursal has not occurred yet. I will leave those values for further analysis since they could represent loans which were not delivered or just expected situations."
   ]
  },
  {
   "cell_type": "markdown",
   "metadata": {},
   "source": [
    "- Regarding the **filled values**"
   ]
  },
  {
   "cell_type": "markdown",
   "metadata": {},
   "source": [
    "As said in the introduction, the timing of the disbursal can vary. For most Field Partner loans, the money is pre-disbursed, so the borrower can access the funds right away. Hence, it is not strange if the disbursed_time is made even before the posted_time. For direct loans, the money is disbursed only after the loan has been fully crowdfunded on the Kiva website. \n",
    "\n",
    "It can then naturally occur after or before the posted_time or the funded_time."
   ]
  },
  {
   "cell_type": "markdown",
   "metadata": {},
   "source": [
    "#### 4) 'posted_time' vs 'funded_time'"
   ]
  },
  {
   "cell_type": "markdown",
   "metadata": {},
   "source": [
    "As we have seen, the chronological order between the 'posted_time' and the 'disbursal_time' does not matter, as well as between the 'disbursal_time' and the 'funded_time'.\n",
    "\n",
    "What could biase the data is when the 'funded_time' appears before the 'posted_time'."
   ]
  },
  {
   "cell_type": "code",
   "execution_count": 26,
   "metadata": {},
   "outputs": [
    {
     "data": {
      "text/html": [
       "<div>\n",
       "<style scoped>\n",
       "    .dataframe tbody tr th:only-of-type {\n",
       "        vertical-align: middle;\n",
       "    }\n",
       "\n",
       "    .dataframe tbody tr th {\n",
       "        vertical-align: top;\n",
       "    }\n",
       "\n",
       "    .dataframe thead th {\n",
       "        text-align: right;\n",
       "    }\n",
       "</style>\n",
       "<table border=\"1\" class=\"dataframe\">\n",
       "  <thead>\n",
       "    <tr style=\"text-align: right;\">\n",
       "      <th></th>\n",
       "      <th>funded_time</th>\n",
       "      <th>posted_time</th>\n",
       "    </tr>\n",
       "  </thead>\n",
       "  <tbody>\n",
       "    <tr>\n",
       "      <th>85222</th>\n",
       "      <td>2005-03-31 06:27:55</td>\n",
       "      <td>2006-04-16 07:10:50</td>\n",
       "    </tr>\n",
       "    <tr>\n",
       "      <th>85369</th>\n",
       "      <td>2005-03-31 06:27:55</td>\n",
       "      <td>2006-04-16 07:10:50</td>\n",
       "    </tr>\n",
       "    <tr>\n",
       "      <th>89113</th>\n",
       "      <td>2005-03-31 06:27:55</td>\n",
       "      <td>2006-04-16 07:10:50</td>\n",
       "    </tr>\n",
       "    <tr>\n",
       "      <th>99222</th>\n",
       "      <td>2005-03-31 06:27:55</td>\n",
       "      <td>2006-04-16 07:10:50</td>\n",
       "    </tr>\n",
       "    <tr>\n",
       "      <th>106582</th>\n",
       "      <td>2005-03-31 06:27:55</td>\n",
       "      <td>2006-04-16 07:10:50</td>\n",
       "    </tr>\n",
       "  </tbody>\n",
       "</table>\n",
       "</div>"
      ],
      "text/plain": [
       "               funded_time         posted_time\n",
       "85222  2005-03-31 06:27:55 2006-04-16 07:10:50\n",
       "85369  2005-03-31 06:27:55 2006-04-16 07:10:50\n",
       "89113  2005-03-31 06:27:55 2006-04-16 07:10:50\n",
       "99222  2005-03-31 06:27:55 2006-04-16 07:10:50\n",
       "106582 2005-03-31 06:27:55 2006-04-16 07:10:50"
      ]
     },
     "execution_count": 26,
     "metadata": {},
     "output_type": "execute_result"
    }
   ],
   "source": [
    "# cases\n",
    "pt_ft_cases = data[data['funded_time'] < data['posted_time']]\n",
    "\n",
    "# brief look\n",
    "pt_ft_cases[['funded_time', 'posted_time']].head()"
   ]
  },
  {
   "cell_type": "code",
   "execution_count": 27,
   "metadata": {},
   "outputs": [
    {
     "data": {
      "text/plain": [
       "funded_time    203\n",
       "posted_time    203\n",
       "dtype: int64"
      ]
     },
     "execution_count": 27,
     "metadata": {},
     "output_type": "execute_result"
    }
   ],
   "source": [
    "# number of cases where funded_time is made before the posted_time \n",
    "pt_ft_cases.count()[['funded_time', 'posted_time']]"
   ]
  },
  {
   "cell_type": "code",
   "execution_count": 28,
   "metadata": {},
   "outputs": [
    {
     "data": {
      "text/plain": [
       "{Timestamp('2006-04-16 07:10:50')}"
      ]
     },
     "execution_count": 28,
     "metadata": {},
     "output_type": "execute_result"
    }
   ],
   "source": [
    "# unique dates where funded_time is made before the posted_time\n",
    "set(pt_ft_cases.posted_time)"
   ]
  },
  {
   "cell_type": "code",
   "execution_count": 29,
   "metadata": {},
   "outputs": [
    {
     "data": {
      "text/plain": [
       "{Timedelta('381 days 00:42:55')}"
      ]
     },
     "execution_count": 29,
     "metadata": {},
     "output_type": "execute_result"
    }
   ],
   "source": [
    "# unique time differences\n",
    "set(pt_ft_cases['posted_time'] - pt_ft_cases['funded_time'])"
   ]
  },
  {
   "cell_type": "code",
   "execution_count": 30,
   "metadata": {},
   "outputs": [
    {
     "data": {
      "text/plain": [
       "Timestamp('2006-04-16 07:10:50')"
      ]
     },
     "execution_count": 30,
     "metadata": {},
     "output_type": "execute_result"
    }
   ],
   "source": [
    "# first posted_time date\n",
    "min(data['posted_time'])"
   ]
  },
  {
   "cell_type": "markdown",
   "metadata": {},
   "source": [
    "As we can see, these cases correspond to the loans which were first posted by Kiva. I will not consider them for analysis."
   ]
  },
  {
   "cell_type": "code",
   "execution_count": 31,
   "metadata": {},
   "outputs": [
    {
     "data": {
      "text/plain": [
       "(1419393, 21)"
      ]
     },
     "execution_count": 31,
     "metadata": {},
     "output_type": "execute_result"
    }
   ],
   "source": [
    "# removing the rows\n",
    "data = data.drop(pt_ft_cases.index)\n",
    "\n",
    "# new shape\n",
    "data.shape"
   ]
  },
  {
   "cell_type": "markdown",
   "metadata": {},
   "source": [
    "#### Other variables"
   ]
  },
  {
   "cell_type": "markdown",
   "metadata": {},
   "source": [
    "The funded_amount column appears to be compatible with the num_lenders_total column. "
   ]
  },
  {
   "cell_type": "code",
   "execution_count": 32,
   "metadata": {},
   "outputs": [
    {
     "name": "stdout",
     "output_type": "stream",
     "text": [
      "There are 2568 zeros in the column 'funded_amount'\n",
      "There are 2568 zeros in the column 'num_lenders_total'\n"
     ]
    }
   ],
   "source": [
    "# funded_amount  \n",
    "print(\"There are\", data['funded_amount'][data['funded_amount'] == 0].count(), \"zeros in the column 'funded_amount'\")\n",
    "\n",
    "# num_lenders_total\n",
    "print(\"There are\", data['num_lenders_total'][data['num_lenders_total'] == 0].count(), \"zeros in the column 'num_lenders_total'\")"
   ]
  },
  {
   "cell_type": "markdown",
   "metadata": {},
   "source": [
    "If the funded_amount is greater or equal to the loan_amount, then the status should not appear as expired."
   ]
  },
  {
   "cell_type": "code",
   "execution_count": 33,
   "metadata": {},
   "outputs": [
    {
     "data": {
      "text/html": [
       "<div>\n",
       "<style scoped>\n",
       "    .dataframe tbody tr th:only-of-type {\n",
       "        vertical-align: middle;\n",
       "    }\n",
       "\n",
       "    .dataframe tbody tr th {\n",
       "        vertical-align: top;\n",
       "    }\n",
       "\n",
       "    .dataframe thead th {\n",
       "        text-align: right;\n",
       "    }\n",
       "</style>\n",
       "<table border=\"1\" class=\"dataframe\">\n",
       "  <thead>\n",
       "    <tr style=\"text-align: right;\">\n",
       "      <th></th>\n",
       "      <th>loan_id</th>\n",
       "      <th>funded_amount</th>\n",
       "      <th>loan_amount</th>\n",
       "      <th>status</th>\n",
       "      <th>activity_name</th>\n",
       "      <th>sector_name</th>\n",
       "      <th>loan_use</th>\n",
       "      <th>country_code</th>\n",
       "      <th>country_name</th>\n",
       "      <th>town_name</th>\n",
       "      <th>...</th>\n",
       "      <th>currency</th>\n",
       "      <th>partner_id</th>\n",
       "      <th>posted_time</th>\n",
       "      <th>planned_expiration_time</th>\n",
       "      <th>disbursed_time</th>\n",
       "      <th>funded_time</th>\n",
       "      <th>lender_term</th>\n",
       "      <th>num_lenders_total</th>\n",
       "      <th>borrower_genders</th>\n",
       "      <th>repayment_interval</th>\n",
       "    </tr>\n",
       "  </thead>\n",
       "  <tbody>\n",
       "  </tbody>\n",
       "</table>\n",
       "<p>0 rows × 21 columns</p>\n",
       "</div>"
      ],
      "text/plain": [
       "Empty DataFrame\n",
       "Columns: [loan_id, funded_amount, loan_amount, status, activity_name, sector_name, loan_use, country_code, country_name, town_name, currency_policy, currency, partner_id, posted_time, planned_expiration_time, disbursed_time, funded_time, lender_term, num_lenders_total, borrower_genders, repayment_interval]\n",
       "Index: []\n",
       "\n",
       "[0 rows x 21 columns]"
      ]
     },
     "execution_count": 33,
     "metadata": {},
     "output_type": "execute_result"
    }
   ],
   "source": [
    "data[(data['funded_amount'] >= data['loan_amount']) & (data['status'] == 'expired')]"
   ]
  },
  {
   "cell_type": "markdown",
   "metadata": {},
   "source": [
    "#### Checking for misspellings"
   ]
  },
  {
   "cell_type": "markdown",
   "metadata": {},
   "source": [
    "*'activity_name'*"
   ]
  },
  {
   "cell_type": "code",
   "execution_count": 34,
   "metadata": {},
   "outputs": [
    {
     "data": {
      "text/plain": [
       "24                  Fruits & Vegetables\n",
       "26                Food Production/Sales\n",
       "83         Cloth & Dressmaking Supplies\n",
       "144      Primary/secondary school costs\n",
       "175          Liquor Store / Off-License\n",
       "553                       Fuel/Firewood\n",
       "1591                Music Discs & Tapes\n",
       "3155                 Movie Tapes & DVDs\n",
       "15965                      Balut-Making\n",
       "33786           Landscaping / Gardening\n",
       "Name: activity_name, dtype: object"
      ]
     },
     "execution_count": 34,
     "metadata": {},
     "output_type": "execute_result"
    }
   ],
   "source": [
    "# Create the series of activities\n",
    "activities = data['activity_name']\n",
    "\n",
    "# drop duplicates\n",
    "activities = activities.drop_duplicates()\n",
    "\n",
    "# creating the pattern to look for\n",
    "pattern = '^[A-Za-z\\.\\s]*$'\n",
    "\n",
    "# mask\n",
    "mask = activities.str.contains(pattern)\n",
    "\n",
    "# Inverting the mask: mask_inverse\n",
    "mask_inverse = ~mask\n",
    "\n",
    "#Subset activities using mask_inverse: invalid_activities\n",
    "invalid_activities = activities.loc[mask_inverse]\n",
    "\n",
    "# printing\n",
    "invalid_activities \n",
    "\n",
    "# Conclusion: everything normal"
   ]
  },
  {
   "cell_type": "markdown",
   "metadata": {},
   "source": [
    "*'country_name'*"
   ]
  },
  {
   "cell_type": "code",
   "execution_count": 35,
   "metadata": {},
   "outputs": [
    {
     "data": {
      "text/plain": [
       "269      Lao People's Democratic Republic\n",
       "298                       Myanmar (Burma)\n",
       "491                           Timor-Leste\n",
       "23390                       Cote D'Ivoire\n",
       "Name: country_name, dtype: object"
      ]
     },
     "execution_count": 35,
     "metadata": {},
     "output_type": "execute_result"
    }
   ],
   "source": [
    "# Create the series of countries\n",
    "countries = data['country_name']\n",
    "\n",
    "# drop duplicates\n",
    "countries = countries.drop_duplicates()\n",
    "\n",
    "# creating the pattern to look for\n",
    "pattern = '^[A-Za-z\\.\\s]*$'\n",
    "\n",
    "# mask\n",
    "mask = countries.str.contains(pattern)\n",
    "\n",
    "# Inverting the mask: mask_inverse\n",
    "mask_inverse = ~mask\n",
    "\n",
    "#Subset activities using mask_inverse: invalid_activities\n",
    "invalid_countries = countries.loc[mask_inverse]\n",
    "\n",
    "# printing\n",
    "invalid_countries \n",
    "\n",
    "# Conclusion: everything normal"
   ]
  },
  {
   "cell_type": "markdown",
   "metadata": {},
   "source": [
    "### Searching for outliers"
   ]
  },
  {
   "cell_type": "markdown",
   "metadata": {},
   "source": [
    "I will define a **outlier** as a point beyond a **zscore** with a threshold equal to 3."
   ]
  },
  {
   "cell_type": "code",
   "execution_count": 36,
   "metadata": {},
   "outputs": [],
   "source": [
    "# defining outliers function based on z-score\n",
    "def outliers_zscore(diff, threshold):\n",
    "    zscore_diff = (diff - diff.mean())/diff.std()\n",
    "    return zscore_diff[(zscore_diff > threshold) | (zscore_diff < -threshold)]"
   ]
  },
  {
   "cell_type": "markdown",
   "metadata": {},
   "source": [
    "***1) 'loan_amount' and 'funded_amount'***"
   ]
  },
  {
   "cell_type": "code",
   "execution_count": 37,
   "metadata": {},
   "outputs": [
    {
     "data": {
      "text/html": [
       "<div>\n",
       "<style scoped>\n",
       "    .dataframe tbody tr th:only-of-type {\n",
       "        vertical-align: middle;\n",
       "    }\n",
       "\n",
       "    .dataframe tbody tr th {\n",
       "        vertical-align: top;\n",
       "    }\n",
       "\n",
       "    .dataframe thead th {\n",
       "        text-align: right;\n",
       "    }\n",
       "</style>\n",
       "<table border=\"1\" class=\"dataframe\">\n",
       "  <thead>\n",
       "    <tr style=\"text-align: right;\">\n",
       "      <th></th>\n",
       "      <th>funded_amount</th>\n",
       "      <th>loan_amount</th>\n",
       "    </tr>\n",
       "  </thead>\n",
       "  <tbody>\n",
       "    <tr>\n",
       "      <th>count</th>\n",
       "      <td>1.419393e+06</td>\n",
       "      <td>1.419393e+06</td>\n",
       "    </tr>\n",
       "    <tr>\n",
       "      <th>mean</th>\n",
       "      <td>7.961659e+02</td>\n",
       "      <td>8.322734e+02</td>\n",
       "    </tr>\n",
       "    <tr>\n",
       "      <th>std</th>\n",
       "      <td>1.034322e+03</td>\n",
       "      <td>1.080619e+03</td>\n",
       "    </tr>\n",
       "    <tr>\n",
       "      <th>min</th>\n",
       "      <td>0.000000e+00</td>\n",
       "      <td>2.500000e+01</td>\n",
       "    </tr>\n",
       "    <tr>\n",
       "      <th>25%</th>\n",
       "      <td>2.750000e+02</td>\n",
       "      <td>3.000000e+02</td>\n",
       "    </tr>\n",
       "    <tr>\n",
       "      <th>50%</th>\n",
       "      <td>5.000000e+02</td>\n",
       "      <td>5.000000e+02</td>\n",
       "    </tr>\n",
       "    <tr>\n",
       "      <th>75%</th>\n",
       "      <td>9.500000e+02</td>\n",
       "      <td>1.000000e+03</td>\n",
       "    </tr>\n",
       "    <tr>\n",
       "      <th>max</th>\n",
       "      <td>1.000000e+05</td>\n",
       "      <td>1.000000e+05</td>\n",
       "    </tr>\n",
       "  </tbody>\n",
       "</table>\n",
       "</div>"
      ],
      "text/plain": [
       "       funded_amount   loan_amount\n",
       "count   1.419393e+06  1.419393e+06\n",
       "mean    7.961659e+02  8.322734e+02\n",
       "std     1.034322e+03  1.080619e+03\n",
       "min     0.000000e+00  2.500000e+01\n",
       "25%     2.750000e+02  3.000000e+02\n",
       "50%     5.000000e+02  5.000000e+02\n",
       "75%     9.500000e+02  1.000000e+03\n",
       "max     1.000000e+05  1.000000e+05"
      ]
     },
     "execution_count": 37,
     "metadata": {},
     "output_type": "execute_result"
    }
   ],
   "source": [
    "data[['funded_amount', 'loan_amount']].describe()"
   ]
  },
  {
   "cell_type": "markdown",
   "metadata": {},
   "source": [
    "In the previous analysis, when looking at the filled values in the 'funded_time' column, I did not considered the cases where the funded_amount was greater than the loan_amount as invalid. It is necessary, however, to check for outliers."
   ]
  },
  {
   "cell_type": "code",
   "execution_count": 38,
   "metadata": {},
   "outputs": [
    {
     "data": {
      "text/plain": [
       "count    10.000000\n",
       "mean     27.500000\n",
       "std       7.905694\n",
       "min      25.000000\n",
       "25%      25.000000\n",
       "50%      25.000000\n",
       "75%      25.000000\n",
       "max      50.000000\n",
       "dtype: float64"
      ]
     },
     "execution_count": 38,
     "metadata": {},
     "output_type": "execute_result"
    }
   ],
   "source": [
    "funded_amount_big = data[data['loan_amount'] < data['funded_amount']].funded_amount\n",
    "loan_amount_small = data[data['loan_amount'] < data['funded_amount']].loan_amount\n",
    "\n",
    "# general statistics of the difference:  \n",
    "(funded_amount_big - loan_amount_small).describe()"
   ]
  },
  {
   "cell_type": "markdown",
   "metadata": {},
   "source": [
    "The differences are not significant. Everything appears to be ok with the 'loan_amount' and 'funded_amount' values."
   ]
  },
  {
   "cell_type": "markdown",
   "metadata": {},
   "source": [
    "***2) Main variables***"
   ]
  },
  {
   "cell_type": "code",
   "execution_count": 39,
   "metadata": {},
   "outputs": [
    {
     "data": {
      "text/html": [
       "<div>\n",
       "<style scoped>\n",
       "    .dataframe tbody tr th:only-of-type {\n",
       "        vertical-align: middle;\n",
       "    }\n",
       "\n",
       "    .dataframe tbody tr th {\n",
       "        vertical-align: top;\n",
       "    }\n",
       "\n",
       "    .dataframe thead th {\n",
       "        text-align: right;\n",
       "    }\n",
       "</style>\n",
       "<table border=\"1\" class=\"dataframe\">\n",
       "  <thead>\n",
       "    <tr style=\"text-align: right;\">\n",
       "      <th></th>\n",
       "      <th>posted_time</th>\n",
       "      <th>disbursed_time</th>\n",
       "      <th>funded_time</th>\n",
       "    </tr>\n",
       "  </thead>\n",
       "  <tbody>\n",
       "    <tr>\n",
       "      <th>count</th>\n",
       "      <td>1419393</td>\n",
       "      <td>1416580</td>\n",
       "      <td>1355118</td>\n",
       "    </tr>\n",
       "    <tr>\n",
       "      <th>unique</th>\n",
       "      <td>1415152</td>\n",
       "      <td>75663</td>\n",
       "      <td>1137788</td>\n",
       "    </tr>\n",
       "    <tr>\n",
       "      <th>top</th>\n",
       "      <td>2015-05-27 08:05:17</td>\n",
       "      <td>2017-02-01 08:00:00</td>\n",
       "      <td>2016-09-21 13:03:24</td>\n",
       "    </tr>\n",
       "    <tr>\n",
       "      <th>freq</th>\n",
       "      <td>3</td>\n",
       "      <td>2800</td>\n",
       "      <td>33</td>\n",
       "    </tr>\n",
       "    <tr>\n",
       "      <th>first</th>\n",
       "      <td>2006-04-16 07:10:50</td>\n",
       "      <td>2006-05-03 00:11:57</td>\n",
       "      <td>2006-04-19 00:11:57</td>\n",
       "    </tr>\n",
       "    <tr>\n",
       "      <th>last</th>\n",
       "      <td>2018-01-11 07:11:23</td>\n",
       "      <td>2018-03-19 07:00:00</td>\n",
       "      <td>2018-01-11 03:11:44</td>\n",
       "    </tr>\n",
       "  </tbody>\n",
       "</table>\n",
       "</div>"
      ],
      "text/plain": [
       "                posted_time       disbursed_time          funded_time\n",
       "count               1419393              1416580              1355118\n",
       "unique              1415152                75663              1137788\n",
       "top     2015-05-27 08:05:17  2017-02-01 08:00:00  2016-09-21 13:03:24\n",
       "freq                      3                 2800                   33\n",
       "first   2006-04-16 07:10:50  2006-05-03 00:11:57  2006-04-19 00:11:57\n",
       "last    2018-01-11 07:11:23  2018-03-19 07:00:00  2018-01-11 03:11:44"
      ]
     },
     "execution_count": 39,
     "metadata": {},
     "output_type": "execute_result"
    }
   ],
   "source": [
    "data[['posted_time', 'disbursed_time', 'funded_time']].describe()"
   ]
  },
  {
   "cell_type": "markdown",
   "metadata": {},
   "source": [
    "As the main variables fit approximately inside the same dates, there are no outliers regarding each one."
   ]
  },
  {
   "cell_type": "markdown",
   "metadata": {},
   "source": [
    "Looking at the differences between them:"
   ]
  },
  {
   "cell_type": "markdown",
   "metadata": {},
   "source": [
    "***2.1) 'posted_time' and 'funded_time'***"
   ]
  },
  {
   "cell_type": "markdown",
   "metadata": {},
   "source": [
    "One one hand, it is not necessary to look for outliers here since we have already excluded for analysis the cases where the funded_time was before the posted_time. On the other hand:"
   ]
  },
  {
   "cell_type": "code",
   "execution_count": 40,
   "metadata": {},
   "outputs": [
    {
     "data": {
      "text/plain": [
       "count                    1355118\n",
       "mean     12 days 15:14:31.848660\n",
       "std      13 days 13:00:26.422088\n",
       "min              0 days 00:02:00\n",
       "25%       3 days 13:15:20.250000\n",
       "50%              7 days 18:30:50\n",
       "75%      18 days 11:47:17.250000\n",
       "max            533 days 17:22:00\n",
       "dtype: object"
      ]
     },
     "execution_count": 40,
     "metadata": {},
     "output_type": "execute_result"
    }
   ],
   "source": [
    "# difference\n",
    "pt_ft_diff = data['funded_time'] - data['posted_time']\n",
    "\n",
    "pt_ft_diff.describe()"
   ]
  },
  {
   "cell_type": "code",
   "execution_count": 41,
   "metadata": {},
   "outputs": [
    {
     "data": {
      "text/plain": [
       "count    13011.000000\n",
       "mean         4.790120\n",
       "std          3.170715\n",
       "min          3.000044\n",
       "25%          3.269806\n",
       "50%          3.614506\n",
       "75%          4.537201\n",
       "max         38.479514\n",
       "dtype: float64"
      ]
     },
     "execution_count": 41,
     "metadata": {},
     "output_type": "execute_result"
    }
   ],
   "source": [
    "# outliers for the difference between funded_time and posted_time with a threshold = 3\n",
    "outliers_pt_ft = outliers_zscore(pt_ft_diff, 3)\n",
    "\n",
    "# describe\n",
    "outliers_pt_ft.describe()"
   ]
  },
  {
   "cell_type": "code",
   "execution_count": 42,
   "metadata": {},
   "outputs": [
    {
     "data": {
      "image/png": "[encoded data removed]",
      "text/plain": [
       "<Figure size 432x288 with 1 Axes>"
      ]
     },
     "metadata": {
      "needs_background": "light"
     },
     "output_type": "display_data"
    }
   ],
   "source": [
    "# boxplot\n",
    "pt_ft_diff.plot(kind='box')\n",
    "\n",
    "plt.show()"
   ]
  },
  {
   "cell_type": "code",
   "execution_count": 43,
   "metadata": {},
   "outputs": [
    {
     "data": {
      "text/html": [
       "<div>\n",
       "<style scoped>\n",
       "    .dataframe tbody tr th:only-of-type {\n",
       "        vertical-align: middle;\n",
       "    }\n",
       "\n",
       "    .dataframe tbody tr th {\n",
       "        vertical-align: top;\n",
       "    }\n",
       "\n",
       "    .dataframe thead th {\n",
       "        text-align: right;\n",
       "    }\n",
       "</style>\n",
       "<table border=\"1\" class=\"dataframe\">\n",
       "  <thead>\n",
       "    <tr style=\"text-align: right;\">\n",
       "      <th></th>\n",
       "      <th>loan_id</th>\n",
       "      <th>funded_amount</th>\n",
       "      <th>loan_amount</th>\n",
       "      <th>status</th>\n",
       "      <th>activity_name</th>\n",
       "      <th>sector_name</th>\n",
       "      <th>loan_use</th>\n",
       "      <th>country_code</th>\n",
       "      <th>country_name</th>\n",
       "      <th>town_name</th>\n",
       "      <th>...</th>\n",
       "      <th>currency</th>\n",
       "      <th>partner_id</th>\n",
       "      <th>posted_time</th>\n",
       "      <th>planned_expiration_time</th>\n",
       "      <th>disbursed_time</th>\n",
       "      <th>funded_time</th>\n",
       "      <th>lender_term</th>\n",
       "      <th>num_lenders_total</th>\n",
       "      <th>borrower_genders</th>\n",
       "      <th>repayment_interval</th>\n",
       "    </tr>\n",
       "  </thead>\n",
       "  <tbody>\n",
       "    <tr>\n",
       "      <th>521</th>\n",
       "      <td>664647</td>\n",
       "      <td>1500.0</td>\n",
       "      <td>1500.0</td>\n",
       "      <td>funded</td>\n",
       "      <td>Personal Housing Expenses</td>\n",
       "      <td>Housing</td>\n",
       "      <td>To buy cement, iron, sand, bricks and hire wor...</td>\n",
       "      <td>SV</td>\n",
       "      <td>El Salvador</td>\n",
       "      <td>Osicala</td>\n",
       "      <td>...</td>\n",
       "      <td>USD</td>\n",
       "      <td>199.0</td>\n",
       "      <td>2014-01-31 21:43:39</td>\n",
       "      <td>2014-03-30 10:10:02</td>\n",
       "      <td>2014-01-28 08:00:00</td>\n",
       "      <td>2014-03-26 13:53:14</td>\n",
       "      <td>21.0</td>\n",
       "      <td>49</td>\n",
       "      <td>female</td>\n",
       "      <td>monthly</td>\n",
       "    </tr>\n",
       "    <tr>\n",
       "      <th>799</th>\n",
       "      <td>660131</td>\n",
       "      <td>1450.0</td>\n",
       "      <td>1450.0</td>\n",
       "      <td>funded</td>\n",
       "      <td>Agriculture</td>\n",
       "      <td>Agriculture</td>\n",
       "      <td>to buy agricultural inputs to protect and aid ...</td>\n",
       "      <td>HN</td>\n",
       "      <td>Honduras</td>\n",
       "      <td>Santa Barbara</td>\n",
       "      <td>...</td>\n",
       "      <td>HNL</td>\n",
       "      <td>269.0</td>\n",
       "      <td>2014-01-21 18:37:25</td>\n",
       "      <td>2014-03-26 22:25:57</td>\n",
       "      <td>2014-01-20 08:00:00</td>\n",
       "      <td>2014-03-17 22:04:55</td>\n",
       "      <td>26.0</td>\n",
       "      <td>56</td>\n",
       "      <td>female</td>\n",
       "      <td>monthly</td>\n",
       "    </tr>\n",
       "    <tr>\n",
       "      <th>1083</th>\n",
       "      <td>658101</td>\n",
       "      <td>350.0</td>\n",
       "      <td>350.0</td>\n",
       "      <td>funded</td>\n",
       "      <td>Personal Housing Expenses</td>\n",
       "      <td>Housing</td>\n",
       "      <td>To buy cement, sand, and gravel for installing...</td>\n",
       "      <td>SV</td>\n",
       "      <td>El Salvador</td>\n",
       "      <td>NaN</td>\n",
       "      <td>...</td>\n",
       "      <td>USD</td>\n",
       "      <td>81.0</td>\n",
       "      <td>2014-01-16 15:05:46</td>\n",
       "      <td>2014-03-26 22:22:18</td>\n",
       "      <td>2013-12-20 08:00:00</td>\n",
       "      <td>2014-03-18 18:21:24</td>\n",
       "      <td>14.0</td>\n",
       "      <td>13</td>\n",
       "      <td>male</td>\n",
       "      <td>monthly</td>\n",
       "    </tr>\n",
       "    <tr>\n",
       "      <th>1474</th>\n",
       "      <td>658258</td>\n",
       "      <td>650.0</td>\n",
       "      <td>650.0</td>\n",
       "      <td>funded</td>\n",
       "      <td>Grocery Store</td>\n",
       "      <td>Food</td>\n",
       "      <td>to buy products for her grocery store</td>\n",
       "      <td>HN</td>\n",
       "      <td>Honduras</td>\n",
       "      <td>Choloma, Cortes.</td>\n",
       "      <td>...</td>\n",
       "      <td>HNL</td>\n",
       "      <td>201.0</td>\n",
       "      <td>2014-01-16 20:45:39</td>\n",
       "      <td>2014-03-26 22:25:17</td>\n",
       "      <td>2014-01-08 08:00:00</td>\n",
       "      <td>2014-03-12 16:24:47</td>\n",
       "      <td>14.0</td>\n",
       "      <td>19</td>\n",
       "      <td>female</td>\n",
       "      <td>monthly</td>\n",
       "    </tr>\n",
       "    <tr>\n",
       "      <th>1519</th>\n",
       "      <td>419280</td>\n",
       "      <td>575.0</td>\n",
       "      <td>575.0</td>\n",
       "      <td>funded</td>\n",
       "      <td>Sewing</td>\n",
       "      <td>Services</td>\n",
       "      <td>NaN</td>\n",
       "      <td>CO</td>\n",
       "      <td>Colombia</td>\n",
       "      <td>NaN</td>\n",
       "      <td>...</td>\n",
       "      <td>COP</td>\n",
       "      <td>177.0</td>\n",
       "      <td>2012-04-25 12:45:24</td>\n",
       "      <td>2012-07-01 09:00:10</td>\n",
       "      <td>2012-04-23 07:00:00</td>\n",
       "      <td>2012-06-18 00:53:02</td>\n",
       "      <td>14.0</td>\n",
       "      <td>10</td>\n",
       "      <td>NaN</td>\n",
       "      <td>monthly</td>\n",
       "    </tr>\n",
       "  </tbody>\n",
       "</table>\n",
       "<p>5 rows × 21 columns</p>\n",
       "</div>"
      ],
      "text/plain": [
       "      loan_id  funded_amount  loan_amount  status              activity_name  \\\n",
       "521    664647         1500.0       1500.0  funded  Personal Housing Expenses   \n",
       "799    660131         1450.0       1450.0  funded                Agriculture   \n",
       "1083   658101          350.0        350.0  funded  Personal Housing Expenses   \n",
       "1474   658258          650.0        650.0  funded              Grocery Store   \n",
       "1519   419280          575.0        575.0  funded                     Sewing   \n",
       "\n",
       "      sector_name                                           loan_use  \\\n",
       "521       Housing  To buy cement, iron, sand, bricks and hire wor...   \n",
       "799   Agriculture  to buy agricultural inputs to protect and aid ...   \n",
       "1083      Housing  To buy cement, sand, and gravel for installing...   \n",
       "1474         Food              to buy products for her grocery store   \n",
       "1519     Services                                                NaN   \n",
       "\n",
       "     country_code country_name         town_name        ...         currency  \\\n",
       "521            SV  El Salvador           Osicala        ...              USD   \n",
       "799            HN     Honduras     Santa Barbara        ...              HNL   \n",
       "1083           SV  El Salvador               NaN        ...              USD   \n",
       "1474           HN     Honduras  Choloma, Cortes.        ...              HNL   \n",
       "1519           CO     Colombia               NaN        ...              COP   \n",
       "\n",
       "     partner_id         posted_time planned_expiration_time  \\\n",
       "521       199.0 2014-01-31 21:43:39     2014-03-30 10:10:02   \n",
       "799       269.0 2014-01-21 18:37:25     2014-03-26 22:25:57   \n",
       "1083       81.0 2014-01-16 15:05:46     2014-03-26 22:22:18   \n",
       "1474      201.0 2014-01-16 20:45:39     2014-03-26 22:25:17   \n",
       "1519      177.0 2012-04-25 12:45:24     2012-07-01 09:00:10   \n",
       "\n",
       "          disbursed_time         funded_time lender_term  num_lenders_total  \\\n",
       "521  2014-01-28 08:00:00 2014-03-26 13:53:14        21.0                 49   \n",
       "799  2014-01-20 08:00:00 2014-03-17 22:04:55        26.0                 56   \n",
       "1083 2013-12-20 08:00:00 2014-03-18 18:21:24        14.0                 13   \n",
       "1474 2014-01-08 08:00:00 2014-03-12 16:24:47        14.0                 19   \n",
       "1519 2012-04-23 07:00:00 2012-06-18 00:53:02        14.0                 10   \n",
       "\n",
       "      borrower_genders repayment_interval  \n",
       "521             female            monthly  \n",
       "799             female            monthly  \n",
       "1083              male            monthly  \n",
       "1474            female            monthly  \n",
       "1519               NaN            monthly  \n",
       "\n",
       "[5 rows x 21 columns]"
      ]
     },
     "execution_count": 43,
     "metadata": {},
     "output_type": "execute_result"
    }
   ],
   "source": [
    "# brief look at the outliers\n",
    "outliers_case_1 = data.iloc[outliers_pt_ft.index]\n",
    "outliers_case_1.head()"
   ]
  },
  {
   "cell_type": "code",
   "execution_count": 44,
   "metadata": {},
   "outputs": [
    {
     "name": "stderr",
     "output_type": "stream",
     "text": [
      "C:\\Users\\Admin\\Anaconda3\\lib\\site-packages\\ipykernel_launcher.py:2: SettingWithCopyWarning: \n",
      "A value is trying to be set on a copy of a slice from a DataFrame.\n",
      "Try using .loc[row_indexer,col_indexer] = value instead\n",
      "\n",
      "See the caveats in the documentation: http://pandas.pydata.org/pandas-docs/stable/indexing.html#indexing-view-versus-copy\n",
      "  \n",
      "C:\\Users\\Admin\\Anaconda3\\lib\\site-packages\\ipykernel_launcher.py:6: SettingWithCopyWarning: \n",
      "A value is trying to be set on a copy of a slice from a DataFrame.\n",
      "Try using .loc[row_indexer,col_indexer] = value instead\n",
      "\n",
      "See the caveats in the documentation: http://pandas.pydata.org/pandas-docs/stable/indexing.html#indexing-view-versus-copy\n",
      "  \n"
     ]
    },
    {
     "data": {
      "text/html": [
       "<div>\n",
       "<style scoped>\n",
       "    .dataframe tbody tr th:only-of-type {\n",
       "        vertical-align: middle;\n",
       "    }\n",
       "\n",
       "    .dataframe tbody tr th {\n",
       "        vertical-align: top;\n",
       "    }\n",
       "\n",
       "    .dataframe thead th {\n",
       "        text-align: right;\n",
       "    }\n",
       "</style>\n",
       "<table border=\"1\" class=\"dataframe\">\n",
       "  <thead>\n",
       "    <tr style=\"text-align: right;\">\n",
       "      <th></th>\n",
       "      <th>loan_id</th>\n",
       "      <th>funded_amount</th>\n",
       "      <th>loan_amount</th>\n",
       "      <th>status</th>\n",
       "      <th>activity_name</th>\n",
       "      <th>sector_name</th>\n",
       "      <th>loan_use</th>\n",
       "      <th>country_code</th>\n",
       "      <th>country_name</th>\n",
       "      <th>town_name</th>\n",
       "      <th>...</th>\n",
       "      <th>posted_time</th>\n",
       "      <th>planned_expiration_time</th>\n",
       "      <th>disbursed_time</th>\n",
       "      <th>funded_time</th>\n",
       "      <th>lender_term</th>\n",
       "      <th>num_lenders_total</th>\n",
       "      <th>borrower_genders</th>\n",
       "      <th>repayment_interval</th>\n",
       "      <th>months_to_fund</th>\n",
       "      <th>planned_expiration_time_days</th>\n",
       "    </tr>\n",
       "  </thead>\n",
       "  <tbody>\n",
       "  </tbody>\n",
       "</table>\n",
       "<p>0 rows × 23 columns</p>\n",
       "</div>"
      ],
      "text/plain": [
       "Empty DataFrame\n",
       "Columns: [loan_id, funded_amount, loan_amount, status, activity_name, sector_name, loan_use, country_code, country_name, town_name, currency_policy, currency, partner_id, posted_time, planned_expiration_time, disbursed_time, funded_time, lender_term, num_lenders_total, borrower_genders, repayment_interval, months_to_fund, planned_expiration_time_days]\n",
       "Index: []\n",
       "\n",
       "[0 rows x 23 columns]"
      ]
     },
     "execution_count": 44,
     "metadata": {},
     "output_type": "execute_result"
    }
   ],
   "source": [
    "# comparing with the planned_expiration_time\n",
    "outliers_case_1['months_to_fund'] = (outliers_case_1['funded_time'] - outliers_case_1['posted_time']).dt.days / 30\n",
    "\n",
    "# planned_expiration_time columns in days\n",
    "outliers_case_1['planned_expiration_time_days'] = (outliers_case_1['planned_expiration_time'] - \n",
    "                                                   outliers_case_1['posted_time']).dt.days\n",
    "\n",
    "# cases where months_to_fund > planned_expiration_time_days\n",
    "outliers_case_1[outliers_case_1['months_to_fund'] > outliers_case_1['planned_expiration_time_days']]"
   ]
  },
  {
   "cell_type": "markdown",
   "metadata": {},
   "source": [
    "In this case, I will opt to keep the outliers."
   ]
  },
  {
   "cell_type": "markdown",
   "metadata": {},
   "source": [
    "***2.2) 'posted_time' and 'disbursed_time'***"
   ]
  },
  {
   "cell_type": "code",
   "execution_count": 45,
   "metadata": {},
   "outputs": [
    {
     "data": {
      "text/plain": [
       "count                    1416580\n",
       "mean     12 days 04:36:06.951143\n",
       "std      18 days 04:48:11.167029\n",
       "min          -540 days +02:23:26\n",
       "25%       5 days 19:58:28.750000\n",
       "50%             14 days 02:57:52\n",
       "75%      25 days 02:15:43.500000\n",
       "max            118 days 16:28:59\n",
       "dtype: object"
      ]
     },
     "execution_count": 45,
     "metadata": {},
     "output_type": "execute_result"
    }
   ],
   "source": [
    "(data['posted_time'] - data['disbursed_time']).describe()"
   ]
  },
  {
   "cell_type": "markdown",
   "metadata": {},
   "source": [
    "As we have seen, the chronological order of these two dates does not matter, because the disbursal can be made before the posted time for most of the entities (Field partners). It is necessary to check for outliers, though.\n",
    "\n",
    "Here I will focus only when the disbursal is made before the posted_time."
   ]
  },
  {
   "cell_type": "code",
   "execution_count": 46,
   "metadata": {},
   "outputs": [
    {
     "data": {
      "text/plain": [
       "count                    1273566\n",
       "mean     16 days 14:42:00.922162\n",
       "std       9 days 15:11:11.397535\n",
       "min              0 days 00:00:03\n",
       "25%       7 days 20:42:53.250000\n",
       "50%      16 days 02:17:43.500000\n",
       "75%             26 days 03:07:27\n",
       "max            118 days 16:28:59\n",
       "dtype: object"
      ]
     },
     "execution_count": 46,
     "metadata": {},
     "output_type": "execute_result"
    }
   ],
   "source": [
    "# cases where the disbursal is made before the posted_time\n",
    "pt_dt_pos = data[data['posted_time'] > data['disbursed_time']]\n",
    "\n",
    "# time difference between the two\n",
    "pt_dt_pos_diff = pt_dt_pos['posted_time'] - pt_dt_pos['disbursed_time']\n",
    "\n",
    "# describe\n",
    "pt_dt_pos_diff.describe()"
   ]
  },
  {
   "cell_type": "code",
   "execution_count": 47,
   "metadata": {},
   "outputs": [
    {
     "data": {
      "text/plain": [
       "count    135.000000\n",
       "mean       4.380002\n",
       "std        1.411533\n",
       "min        3.023692\n",
       "25%        3.323745\n",
       "50%        4.049502\n",
       "75%        4.600418\n",
       "max       10.596565\n",
       "dtype: float64"
      ]
     },
     "execution_count": 47,
     "metadata": {},
     "output_type": "execute_result"
    }
   ],
   "source": [
    "# outliers for the difference between posted_time and disbursed_time (when positive)\n",
    "outliers_pt_dt = outliers_zscore(pt_dt_pos_diff, 3)\n",
    "\n",
    "# describe\n",
    "outliers_pt_dt.describe()"
   ]
  },
  {
   "cell_type": "code",
   "execution_count": 48,
   "metadata": {},
   "outputs": [
    {
     "data": {
      "image/png": "[encoded data removed]",
      "text/plain": [
       "<Figure size 432x288 with 1 Axes>"
      ]
     },
     "metadata": {
      "needs_background": "light"
     },
     "output_type": "display_data"
    }
   ],
   "source": [
    "# boxplot\n",
    "pt_dt_pos_diff.plot(kind='box')\n",
    "\n",
    "plt.show()"
   ]
  },
  {
   "cell_type": "code",
   "execution_count": 49,
   "metadata": {},
   "outputs": [
    {
     "data": {
      "text/html": [
       "<div>\n",
       "<style scoped>\n",
       "    .dataframe tbody tr th:only-of-type {\n",
       "        vertical-align: middle;\n",
       "    }\n",
       "\n",
       "    .dataframe tbody tr th {\n",
       "        vertical-align: top;\n",
       "    }\n",
       "\n",
       "    .dataframe thead th {\n",
       "        text-align: right;\n",
       "    }\n",
       "</style>\n",
       "<table border=\"1\" class=\"dataframe\">\n",
       "  <thead>\n",
       "    <tr style=\"text-align: right;\">\n",
       "      <th></th>\n",
       "      <th>loan_id</th>\n",
       "      <th>funded_amount</th>\n",
       "      <th>loan_amount</th>\n",
       "      <th>status</th>\n",
       "      <th>activity_name</th>\n",
       "      <th>sector_name</th>\n",
       "      <th>loan_use</th>\n",
       "      <th>country_code</th>\n",
       "      <th>country_name</th>\n",
       "      <th>town_name</th>\n",
       "      <th>...</th>\n",
       "      <th>currency</th>\n",
       "      <th>partner_id</th>\n",
       "      <th>posted_time</th>\n",
       "      <th>planned_expiration_time</th>\n",
       "      <th>disbursed_time</th>\n",
       "      <th>funded_time</th>\n",
       "      <th>lender_term</th>\n",
       "      <th>num_lenders_total</th>\n",
       "      <th>borrower_genders</th>\n",
       "      <th>repayment_interval</th>\n",
       "    </tr>\n",
       "  </thead>\n",
       "  <tbody>\n",
       "    <tr>\n",
       "      <th>17072</th>\n",
       "      <td>114567</td>\n",
       "      <td>7450.0</td>\n",
       "      <td>7450.0</td>\n",
       "      <td>funded</td>\n",
       "      <td>Computers</td>\n",
       "      <td>Services</td>\n",
       "      <td>Training and certification for his computer an...</td>\n",
       "      <td>US</td>\n",
       "      <td>United States</td>\n",
       "      <td>Atlanta, Georgia</td>\n",
       "      <td>...</td>\n",
       "      <td>USD</td>\n",
       "      <td>131.0</td>\n",
       "      <td>2009-06-10 20:14:22</td>\n",
       "      <td>NaT</td>\n",
       "      <td>2009-03-22 07:00:00</td>\n",
       "      <td>2009-06-21 02:37:18</td>\n",
       "      <td>26.0</td>\n",
       "      <td>236</td>\n",
       "      <td>male</td>\n",
       "      <td>monthly</td>\n",
       "    </tr>\n",
       "    <tr>\n",
       "      <th>17358</th>\n",
       "      <td>117254</td>\n",
       "      <td>175.0</td>\n",
       "      <td>175.0</td>\n",
       "      <td>funded</td>\n",
       "      <td>Pigs</td>\n",
       "      <td>Agriculture</td>\n",
       "      <td>To buy pig feed</td>\n",
       "      <td>PH</td>\n",
       "      <td>Philippines</td>\n",
       "      <td>Surallah, South Cotabato</td>\n",
       "      <td>...</td>\n",
       "      <td>PHP</td>\n",
       "      <td>125.0</td>\n",
       "      <td>2009-06-22 00:58:11</td>\n",
       "      <td>NaT</td>\n",
       "      <td>2009-05-06 07:00:00</td>\n",
       "      <td>2009-06-22 02:05:24</td>\n",
       "      <td>6.0</td>\n",
       "      <td>6</td>\n",
       "      <td>female</td>\n",
       "      <td>bullet</td>\n",
       "    </tr>\n",
       "    <tr>\n",
       "      <th>17418</th>\n",
       "      <td>114264</td>\n",
       "      <td>5750.0</td>\n",
       "      <td>5750.0</td>\n",
       "      <td>funded</td>\n",
       "      <td>Services</td>\n",
       "      <td>Services</td>\n",
       "      <td>To buy a car for transporting packages</td>\n",
       "      <td>US</td>\n",
       "      <td>United States</td>\n",
       "      <td>Queens, New York</td>\n",
       "      <td>...</td>\n",
       "      <td>USD</td>\n",
       "      <td>131.0</td>\n",
       "      <td>2009-06-09 16:55:37</td>\n",
       "      <td>NaT</td>\n",
       "      <td>2009-03-31 07:00:00</td>\n",
       "      <td>2009-06-20 20:18:43</td>\n",
       "      <td>27.0</td>\n",
       "      <td>171</td>\n",
       "      <td>male</td>\n",
       "      <td>monthly</td>\n",
       "    </tr>\n",
       "    <tr>\n",
       "      <th>36690</th>\n",
       "      <td>246230</td>\n",
       "      <td>1500.0</td>\n",
       "      <td>1500.0</td>\n",
       "      <td>funded</td>\n",
       "      <td>Butcher Shop</td>\n",
       "      <td>Food</td>\n",
       "      <td>To purchase meat for resale</td>\n",
       "      <td>KG</td>\n",
       "      <td>Kyrgyzstan</td>\n",
       "      <td>Tokmak</td>\n",
       "      <td>...</td>\n",
       "      <td>KGS</td>\n",
       "      <td>135.0</td>\n",
       "      <td>2010-11-09 05:39:58</td>\n",
       "      <td>NaT</td>\n",
       "      <td>2010-09-14 07:00:00</td>\n",
       "      <td>2010-11-15 18:34:32</td>\n",
       "      <td>7.0</td>\n",
       "      <td>46</td>\n",
       "      <td>female, female, female, female</td>\n",
       "      <td>monthly</td>\n",
       "    </tr>\n",
       "    <tr>\n",
       "      <th>37027</th>\n",
       "      <td>245762</td>\n",
       "      <td>700.0</td>\n",
       "      <td>700.0</td>\n",
       "      <td>funded</td>\n",
       "      <td>Restaurant</td>\n",
       "      <td>Food</td>\n",
       "      <td>Purchase of ingredients</td>\n",
       "      <td>PH</td>\n",
       "      <td>Philippines</td>\n",
       "      <td>Puerto Princesa, Palawan</td>\n",
       "      <td>...</td>\n",
       "      <td>PHP</td>\n",
       "      <td>145.0</td>\n",
       "      <td>2010-11-06 11:49:45</td>\n",
       "      <td>NaT</td>\n",
       "      <td>2010-09-20 07:00:00</td>\n",
       "      <td>2010-11-06 23:45:16</td>\n",
       "      <td>8.0</td>\n",
       "      <td>26</td>\n",
       "      <td>female</td>\n",
       "      <td>irregular</td>\n",
       "    </tr>\n",
       "  </tbody>\n",
       "</table>\n",
       "<p>5 rows × 21 columns</p>\n",
       "</div>"
      ],
      "text/plain": [
       "       loan_id  funded_amount  loan_amount  status activity_name  sector_name  \\\n",
       "17072   114567         7450.0       7450.0  funded     Computers     Services   \n",
       "17358   117254          175.0        175.0  funded          Pigs  Agriculture   \n",
       "17418   114264         5750.0       5750.0  funded      Services     Services   \n",
       "36690   246230         1500.0       1500.0  funded  Butcher Shop         Food   \n",
       "37027   245762          700.0        700.0  funded    Restaurant         Food   \n",
       "\n",
       "                                                loan_use country_code  \\\n",
       "17072  Training and certification for his computer an...           US   \n",
       "17358                                    To buy pig feed           PH   \n",
       "17418             To buy a car for transporting packages           US   \n",
       "36690                        To purchase meat for resale           KG   \n",
       "37027                           Purchase of ingredients            PH   \n",
       "\n",
       "        country_name                 town_name        ...         currency  \\\n",
       "17072  United States          Atlanta, Georgia        ...              USD   \n",
       "17358    Philippines  Surallah, South Cotabato        ...              PHP   \n",
       "17418  United States          Queens, New York        ...              USD   \n",
       "36690     Kyrgyzstan                    Tokmak        ...              KGS   \n",
       "37027    Philippines  Puerto Princesa, Palawan        ...              PHP   \n",
       "\n",
       "      partner_id         posted_time planned_expiration_time  \\\n",
       "17072      131.0 2009-06-10 20:14:22                     NaT   \n",
       "17358      125.0 2009-06-22 00:58:11                     NaT   \n",
       "17418      131.0 2009-06-09 16:55:37                     NaT   \n",
       "36690      135.0 2010-11-09 05:39:58                     NaT   \n",
       "37027      145.0 2010-11-06 11:49:45                     NaT   \n",
       "\n",
       "           disbursed_time         funded_time lender_term  num_lenders_total  \\\n",
       "17072 2009-03-22 07:00:00 2009-06-21 02:37:18        26.0                236   \n",
       "17358 2009-05-06 07:00:00 2009-06-22 02:05:24         6.0                  6   \n",
       "17418 2009-03-31 07:00:00 2009-06-20 20:18:43        27.0                171   \n",
       "36690 2010-09-14 07:00:00 2010-11-15 18:34:32         7.0                 46   \n",
       "37027 2010-09-20 07:00:00 2010-11-06 23:45:16         8.0                 26   \n",
       "\n",
       "                     borrower_genders repayment_interval  \n",
       "17072                            male            monthly  \n",
       "17358                          female             bullet  \n",
       "17418                            male            monthly  \n",
       "36690  female, female, female, female            monthly  \n",
       "37027                          female          irregular  \n",
       "\n",
       "[5 rows x 21 columns]"
      ]
     },
     "execution_count": 49,
     "metadata": {},
     "output_type": "execute_result"
    }
   ],
   "source": [
    "# data regarding these outliers \n",
    "data.iloc[outliers_pt_dt.index].head()"
   ]
  },
  {
   "cell_type": "code",
   "execution_count": 50,
   "metadata": {},
   "outputs": [
    {
     "data": {
      "text/plain": [
       "count                        131\n",
       "mean     14 days 13:25:41.870229\n",
       "std      25 days 18:08:53.087114\n",
       "min              0 days 01:07:13\n",
       "25%              2 days 12:55:17\n",
       "50%              6 days 23:02:20\n",
       "75%      16 days 21:31:37.500000\n",
       "max            242 days 17:25:56\n",
       "dtype: object"
      ]
     },
     "execution_count": 50,
     "metadata": {},
     "output_type": "execute_result"
    }
   ],
   "source": [
    "# the difference between the funded_time and posted_time in these outliers\n",
    "(data.iloc[outliers_pt_dt.index]['funded_time'] - data.iloc[outliers_pt_dt.index]['posted_time']).describe()"
   ]
  },
  {
   "cell_type": "markdown",
   "metadata": {},
   "source": [
    "There are a few outliers regarding this case. However, when analysing them, we notice that in all of them the difference between the posted_time and funded_time is acceptable, which means that although the disbursal was made long before the posted_time, the loan got funded almost immediatly. This could suggest that these cases were somehow managed by Kiva or the Field Partners.\n",
    "\n",
    "I will opt for their maintenance in the analysis."
   ]
  },
  {
   "cell_type": "markdown",
   "metadata": {},
   "source": [
    "**2.3) 'funded_time' and 'disbursed_time'**"
   ]
  },
  {
   "cell_type": "code",
   "execution_count": 51,
   "metadata": {},
   "outputs": [
    {
     "data": {
      "text/plain": [
       "count                    1354847\n",
       "mean     24 days 16:56:53.510973\n",
       "std      19 days 18:17:54.516253\n",
       "min          -183 days +15:28:03\n",
       "25%      13 days 08:16:07.500000\n",
       "50%             26 days 03:41:37\n",
       "75%             36 days 08:18:57\n",
       "max            157 days 06:55:22\n",
       "dtype: object"
      ]
     },
     "execution_count": 51,
     "metadata": {},
     "output_type": "execute_result"
    }
   ],
   "source": [
    "(data['funded_time'] - data['disbursed_time']).describe()"
   ]
  },
  {
   "cell_type": "markdown",
   "metadata": {},
   "source": [
    "Here I focus on the cases where the disbursed_time was filled after the loan was funded. I left apart the cases where the disbursed_time appeared before the funded_time.\n"
   ]
  },
  {
   "cell_type": "code",
   "execution_count": 52,
   "metadata": {},
   "outputs": [
    {
     "data": {
      "text/plain": [
       "count                     117620\n",
       "mean     16 days 07:46:33.561018\n",
       "std      12 days 22:45:01.896489\n",
       "min              0 days 00:00:17\n",
       "25%             14 days 00:00:00\n",
       "50%             14 days 00:00:00\n",
       "75%             14 days 00:00:00\n",
       "max            182 days 08:31:57\n",
       "dtype: object"
      ]
     },
     "execution_count": 52,
     "metadata": {},
     "output_type": "execute_result"
    }
   ],
   "source": [
    "# cases where the disbursal is made after the funded_time\n",
    "dt_ft_pos = data[data['disbursed_time'] > data['funded_time']]\n",
    "\n",
    "# time difference between the two\n",
    "dt_ft_pos_diff = dt_ft_pos['disbursed_time'] - dt_ft_pos['funded_time']\n",
    "\n",
    "# describe\n",
    "dt_ft_pos_diff.describe()"
   ]
  },
  {
   "cell_type": "markdown",
   "metadata": {},
   "source": [
    "I will now divide the analysis between the cases when there was a field partner involved and when there was not."
   ]
  },
  {
   "cell_type": "markdown",
   "metadata": {},
   "source": [
    "*Field partner involved*"
   ]
  },
  {
   "cell_type": "code",
   "execution_count": 53,
   "metadata": {},
   "outputs": [
    {
     "data": {
      "text/plain": [
       "count                     104590\n",
       "mean     17 days 06:47:49.884291\n",
       "std      12 days 20:47:08.139505\n",
       "min              0 days 00:01:24\n",
       "25%             14 days 00:00:00\n",
       "50%             14 days 00:00:00\n",
       "75%             14 days 00:00:00\n",
       "max             88 days 23:25:52\n",
       "dtype: object"
      ]
     },
     "execution_count": 53,
     "metadata": {},
     "output_type": "execute_result"
    }
   ],
   "source": [
    "# cases where the disbursal is made after the funded_time, where there is a field partner involved\n",
    "dt_ft_pos_partner = data[(data['disbursed_time'] > data['funded_time']) & (data['partner_id'].notnull())]\n",
    "\n",
    "# time difference between the two\n",
    "dt_ft_pos_diff_partner = dt_ft_pos_partner['disbursed_time'] - dt_ft_pos_partner['funded_time']\n",
    "\n",
    "# describe\n",
    "dt_ft_pos_diff_partner.describe()"
   ]
  },
  {
   "cell_type": "code",
   "execution_count": 54,
   "metadata": {},
   "outputs": [
    {
     "data": {
      "text/plain": [
       "count    3214.000000\n",
       "mean        4.192525\n",
       "std         0.765157\n",
       "min         3.002844\n",
       "25%         3.487668\n",
       "50%         4.166138\n",
       "75%         4.916974\n",
       "max         5.572261\n",
       "dtype: float64"
      ]
     },
     "execution_count": 54,
     "metadata": {},
     "output_type": "execute_result"
    }
   ],
   "source": [
    "# outliers for the difference between disbursed_time and funded_time with a threshold = 3, with a field partner\n",
    "outliers_dt_ft_partner = outliers_zscore(dt_ft_pos_diff_partner, 3)\n",
    "\n",
    "# describe\n",
    "outliers_dt_ft_partner.describe()"
   ]
  },
  {
   "cell_type": "markdown",
   "metadata": {},
   "source": [
    "*Field partner not involved*"
   ]
  },
  {
   "cell_type": "code",
   "execution_count": 55,
   "metadata": {},
   "outputs": [
    {
     "data": {
      "text/plain": [
       "count                      13030\n",
       "mean      8 days 14:59:16.826477\n",
       "std      10 days 20:39:23.626387\n",
       "min              0 days 00:00:17\n",
       "25%       2 days 20:21:33.750000\n",
       "50%              5 days 12:25:15\n",
       "75%       9 days 13:06:44.250000\n",
       "max            182 days 08:31:57\n",
       "dtype: object"
      ]
     },
     "execution_count": 55,
     "metadata": {},
     "output_type": "execute_result"
    }
   ],
   "source": [
    "# cases where the disbursal is made after the funded_time, where there is not a field partner involved\n",
    "dt_ft_pos_partner_not = data[(data['disbursed_time'] > data['funded_time']) & (data['partner_id'].isnull())]\n",
    "\n",
    "# time difference between the two\n",
    "dt_ft_pos_diff_partner_not = dt_ft_pos_partner_not['disbursed_time'] - dt_ft_pos_partner_not['funded_time']\n",
    "\n",
    "# describe\n",
    "dt_ft_pos_diff_partner_not.describe()"
   ]
  },
  {
   "cell_type": "code",
   "execution_count": 56,
   "metadata": {},
   "outputs": [
    {
     "data": {
      "text/plain": [
       "count    301.000000\n",
       "mean       4.579016\n",
       "std        1.698910\n",
       "min        3.001596\n",
       "25%        3.346945\n",
       "50%        3.989094\n",
       "75%        5.169267\n",
       "max       15.996315\n",
       "dtype: float64"
      ]
     },
     "execution_count": 56,
     "metadata": {},
     "output_type": "execute_result"
    }
   ],
   "source": [
    "# outliers for the difference between disbursed_time and funded_time with a threshold = 3, and NO field partner\n",
    "outliers_dt_ft_partner_not = outliers_zscore(dt_ft_pos_diff_partner_not, 3)\n",
    "\n",
    "# describe\n",
    "outliers_dt_ft_partner_not.describe()"
   ]
  },
  {
   "cell_type": "code",
   "execution_count": 57,
   "metadata": {},
   "outputs": [
    {
     "data": {
      "text/plain": [
       "Philippines    599\n",
       "Kenya          375\n",
       "Cambodia       192\n",
       "Peru           153\n",
       "El Salvador    150\n",
       "Nicaragua      109\n",
       "Uganda         101\n",
       "Tajikistan      98\n",
       "Pakistan        85\n",
       "Colombia        78\n",
       "Ecuador         75\n",
       "Nigeria         64\n",
       "India           61\n",
       "Paraguay        60\n",
       "Ghana           59\n",
       "Name: country_name, dtype: int64"
      ]
     },
     "execution_count": 57,
     "metadata": {},
     "output_type": "execute_result"
    }
   ],
   "source": [
    "# distribution among countries of the outliers with a field partner involved\n",
    "data.iloc[outliers_dt_ft_partner.index].country_name.value_counts().head(15)"
   ]
  },
  {
   "cell_type": "code",
   "execution_count": 58,
   "metadata": {},
   "outputs": [
    {
     "data": {
      "text/plain": [
       "Kenya            76\n",
       "Philippines      48\n",
       "Peru             21\n",
       "Nicaragua        11\n",
       "Tajikistan       11\n",
       "United States     8\n",
       "Pakistan          7\n",
       "Ghana             7\n",
       "Cambodia          7\n",
       "Uganda            7\n",
       "Ecuador           7\n",
       "El Salvador       6\n",
       "Sierra Leone      6\n",
       "Bolivia           5\n",
       "Albania           5\n",
       "Name: country_name, dtype: int64"
      ]
     },
     "execution_count": 58,
     "metadata": {},
     "output_type": "execute_result"
    }
   ],
   "source": [
    "# distribution among countries of the outliers with no field partner involved\n",
    "data.iloc[outliers_dt_ft_partner_not.index].country_name.value_counts().head(15)"
   ]
  },
  {
   "cell_type": "markdown",
   "metadata": {},
   "source": [
    "Looking at the distribution of the outliers among countries, however, we notice that they are somewhat representative, either with or without a partner involved, so I will opt to keep the values for further analysis."
   ]
  },
  {
   "cell_type": "markdown",
   "metadata": {},
   "source": [
    "##### - When there is a missing disbursed_time value and the loan has been funded: (Kenya & USA)"
   ]
  },
  {
   "cell_type": "code",
   "execution_count": 59,
   "metadata": {},
   "outputs": [
    {
     "data": {
      "text/plain": [
       "271"
      ]
     },
     "execution_count": 59,
     "metadata": {},
     "output_type": "execute_result"
    }
   ],
   "source": [
    "# Cases where there is a missing disbursed_time and the loan has been funded\n",
    "missing_disb = data[(data['disbursed_time'].isna()) & (data['funded_time'].notnull())]\n",
    "missing_disb.count().funded_time"
   ]
  },
  {
   "cell_type": "code",
   "execution_count": 60,
   "metadata": {},
   "outputs": [
    {
     "data": {
      "text/html": [
       "<div>\n",
       "<style scoped>\n",
       "    .dataframe tbody tr th:only-of-type {\n",
       "        vertical-align: middle;\n",
       "    }\n",
       "\n",
       "    .dataframe tbody tr th {\n",
       "        vertical-align: top;\n",
       "    }\n",
       "\n",
       "    .dataframe thead th {\n",
       "        text-align: right;\n",
       "    }\n",
       "</style>\n",
       "<table border=\"1\" class=\"dataframe\">\n",
       "  <thead>\n",
       "    <tr style=\"text-align: right;\">\n",
       "      <th></th>\n",
       "      <th>loan_id</th>\n",
       "      <th>funded_amount</th>\n",
       "      <th>loan_amount</th>\n",
       "      <th>status</th>\n",
       "      <th>activity_name</th>\n",
       "      <th>sector_name</th>\n",
       "      <th>loan_use</th>\n",
       "      <th>country_code</th>\n",
       "      <th>country_name</th>\n",
       "      <th>town_name</th>\n",
       "      <th>...</th>\n",
       "      <th>currency</th>\n",
       "      <th>partner_id</th>\n",
       "      <th>posted_time</th>\n",
       "      <th>planned_expiration_time</th>\n",
       "      <th>disbursed_time</th>\n",
       "      <th>funded_time</th>\n",
       "      <th>lender_term</th>\n",
       "      <th>num_lenders_total</th>\n",
       "      <th>borrower_genders</th>\n",
       "      <th>repayment_interval</th>\n",
       "    </tr>\n",
       "  </thead>\n",
       "  <tbody>\n",
       "    <tr>\n",
       "      <th>37765</th>\n",
       "      <td>1407950</td>\n",
       "      <td>8000.0</td>\n",
       "      <td>8000.0</td>\n",
       "      <td>funded</td>\n",
       "      <td>Clothing</td>\n",
       "      <td>Clothing</td>\n",
       "      <td>support a local business dedicated to providin...</td>\n",
       "      <td>US</td>\n",
       "      <td>United States</td>\n",
       "      <td>NaN</td>\n",
       "      <td>...</td>\n",
       "      <td>USD</td>\n",
       "      <td>NaN</td>\n",
       "      <td>2017-11-02 01:11:32</td>\n",
       "      <td>2017-12-17 22:44:40</td>\n",
       "      <td>NaT</td>\n",
       "      <td>2017-12-16 21:14:45</td>\n",
       "      <td>36.0</td>\n",
       "      <td>56</td>\n",
       "      <td>male</td>\n",
       "      <td>bullet</td>\n",
       "    </tr>\n",
       "    <tr>\n",
       "      <th>70179</th>\n",
       "      <td>1164746</td>\n",
       "      <td>3000.0</td>\n",
       "      <td>3000.0</td>\n",
       "      <td>refunded</td>\n",
       "      <td>Services</td>\n",
       "      <td>Services</td>\n",
       "      <td>NaN</td>\n",
       "      <td>US</td>\n",
       "      <td>United States</td>\n",
       "      <td>NaN</td>\n",
       "      <td>...</td>\n",
       "      <td>USD</td>\n",
       "      <td>NaN</td>\n",
       "      <td>2016-10-05 01:28:13</td>\n",
       "      <td>2016-11-10 18:43:40</td>\n",
       "      <td>NaT</td>\n",
       "      <td>2016-11-10 00:40:29</td>\n",
       "      <td>24.0</td>\n",
       "      <td>57</td>\n",
       "      <td>NaN</td>\n",
       "      <td>bullet</td>\n",
       "    </tr>\n",
       "    <tr>\n",
       "      <th>70314</th>\n",
       "      <td>1088448</td>\n",
       "      <td>5000.0</td>\n",
       "      <td>5000.0</td>\n",
       "      <td>refunded</td>\n",
       "      <td>Agriculture</td>\n",
       "      <td>Agriculture</td>\n",
       "      <td>NaN</td>\n",
       "      <td>US</td>\n",
       "      <td>United States</td>\n",
       "      <td>NaN</td>\n",
       "      <td>...</td>\n",
       "      <td>USD</td>\n",
       "      <td>NaN</td>\n",
       "      <td>2015-04-15 12:35:57</td>\n",
       "      <td>2015-06-05 00:30:01</td>\n",
       "      <td>NaT</td>\n",
       "      <td>2016-02-11 17:44:48</td>\n",
       "      <td>30.0</td>\n",
       "      <td>106</td>\n",
       "      <td>NaN</td>\n",
       "      <td>bullet</td>\n",
       "    </tr>\n",
       "    <tr>\n",
       "      <th>89049</th>\n",
       "      <td>1428619</td>\n",
       "      <td>2000.0</td>\n",
       "      <td>2000.0</td>\n",
       "      <td>funded</td>\n",
       "      <td>Entertainment</td>\n",
       "      <td>Entertainment</td>\n",
       "      <td>fund the renovation of my retail store so my b...</td>\n",
       "      <td>US</td>\n",
       "      <td>United States</td>\n",
       "      <td>NaN</td>\n",
       "      <td>...</td>\n",
       "      <td>USD</td>\n",
       "      <td>NaN</td>\n",
       "      <td>2017-12-05 18:50:15</td>\n",
       "      <td>2018-01-20 12:38:16</td>\n",
       "      <td>NaT</td>\n",
       "      <td>2017-12-23 14:32:29</td>\n",
       "      <td>18.0</td>\n",
       "      <td>25</td>\n",
       "      <td>male</td>\n",
       "      <td>bullet</td>\n",
       "    </tr>\n",
       "    <tr>\n",
       "      <th>91347</th>\n",
       "      <td>1084914</td>\n",
       "      <td>125.0</td>\n",
       "      <td>125.0</td>\n",
       "      <td>refunded</td>\n",
       "      <td>Clothing</td>\n",
       "      <td>Clothing</td>\n",
       "      <td>NaN</td>\n",
       "      <td>KE</td>\n",
       "      <td>Kenya</td>\n",
       "      <td>NaN</td>\n",
       "      <td>...</td>\n",
       "      <td>KES</td>\n",
       "      <td>NaN</td>\n",
       "      <td>2014-10-28 06:32:19</td>\n",
       "      <td>2014-12-27 17:45:36</td>\n",
       "      <td>NaT</td>\n",
       "      <td>2014-12-26 19:09:42</td>\n",
       "      <td>3.0</td>\n",
       "      <td>12</td>\n",
       "      <td>NaN</td>\n",
       "      <td>bullet</td>\n",
       "    </tr>\n",
       "  </tbody>\n",
       "</table>\n",
       "<p>5 rows × 21 columns</p>\n",
       "</div>"
      ],
      "text/plain": [
       "       loan_id  funded_amount  loan_amount    status  activity_name  \\\n",
       "37765  1407950         8000.0       8000.0    funded       Clothing   \n",
       "70179  1164746         3000.0       3000.0  refunded       Services   \n",
       "70314  1088448         5000.0       5000.0  refunded    Agriculture   \n",
       "89049  1428619         2000.0       2000.0    funded  Entertainment   \n",
       "91347  1084914          125.0        125.0  refunded       Clothing   \n",
       "\n",
       "         sector_name                                           loan_use  \\\n",
       "37765       Clothing  support a local business dedicated to providin...   \n",
       "70179       Services                                                NaN   \n",
       "70314    Agriculture                                                NaN   \n",
       "89049  Entertainment  fund the renovation of my retail store so my b...   \n",
       "91347       Clothing                                                NaN   \n",
       "\n",
       "      country_code   country_name town_name        ...         currency  \\\n",
       "37765           US  United States       NaN        ...              USD   \n",
       "70179           US  United States       NaN        ...              USD   \n",
       "70314           US  United States       NaN        ...              USD   \n",
       "89049           US  United States       NaN        ...              USD   \n",
       "91347           KE          Kenya       NaN        ...              KES   \n",
       "\n",
       "      partner_id         posted_time planned_expiration_time disbursed_time  \\\n",
       "37765        NaN 2017-11-02 01:11:32     2017-12-17 22:44:40            NaT   \n",
       "70179        NaN 2016-10-05 01:28:13     2016-11-10 18:43:40            NaT   \n",
       "70314        NaN 2015-04-15 12:35:57     2015-06-05 00:30:01            NaT   \n",
       "89049        NaN 2017-12-05 18:50:15     2018-01-20 12:38:16            NaT   \n",
       "91347        NaN 2014-10-28 06:32:19     2014-12-27 17:45:36            NaT   \n",
       "\n",
       "              funded_time lender_term  num_lenders_total  borrower_genders  \\\n",
       "37765 2017-12-16 21:14:45        36.0                 56              male   \n",
       "70179 2016-11-10 00:40:29        24.0                 57               NaN   \n",
       "70314 2016-02-11 17:44:48        30.0                106               NaN   \n",
       "89049 2017-12-23 14:32:29        18.0                 25              male   \n",
       "91347 2014-12-26 19:09:42         3.0                 12               NaN   \n",
       "\n",
       "      repayment_interval  \n",
       "37765             bullet  \n",
       "70179             bullet  \n",
       "70314             bullet  \n",
       "89049             bullet  \n",
       "91347             bullet  \n",
       "\n",
       "[5 rows x 21 columns]"
      ]
     },
     "execution_count": 60,
     "metadata": {},
     "output_type": "execute_result"
    }
   ],
   "source": [
    "# head\n",
    "missing_disb.head()"
   ]
  },
  {
   "cell_type": "code",
   "execution_count": 61,
   "metadata": {},
   "outputs": [
    {
     "data": {
      "text/plain": [
       "Kenya            216\n",
       "United States     55\n",
       "Name: country_name, dtype: int64"
      ]
     },
     "execution_count": 61,
     "metadata": {},
     "output_type": "execute_result"
    }
   ],
   "source": [
    "# geographical location of the missing values\n",
    "missing_disb.country_name.value_counts()"
   ]
  },
  {
   "cell_type": "code",
   "execution_count": 62,
   "metadata": {},
   "outputs": [
    {
     "data": {
      "text/plain": [
       "Agriculture       79\n",
       "Services          46\n",
       "Food              46\n",
       "Retail            44\n",
       "Clothing          26\n",
       "Arts               9\n",
       "Transportation     7\n",
       "Construction       5\n",
       "Entertainment      4\n",
       "Health             4\n",
       "Education          1\n",
       "Name: sector_name, dtype: int64"
      ]
     },
     "execution_count": 62,
     "metadata": {},
     "output_type": "execute_result"
    }
   ],
   "source": [
    "# sector name of those missing values \n",
    "missing_disb.sector_name.value_counts()\n",
    "\n",
    "# Note: 97% of the Agriculture cases are from Kenya"
   ]
  },
  {
   "cell_type": "markdown",
   "metadata": {},
   "source": [
    "Since the missing values appear in only two countries in the world, I will generalize and check for outliers by comparing them with the typical delay to disburse in each country."
   ]
  },
  {
   "cell_type": "markdown",
   "metadata": {},
   "source": [
    "##### USA"
   ]
  },
  {
   "cell_type": "code",
   "execution_count": 63,
   "metadata": {},
   "outputs": [
    {
     "name": "stdout",
     "output_type": "stream",
     "text": [
      "count                      3527\n",
      "mean     5 days 06:43:32.021831\n",
      "std      5 days 22:55:18.397383\n",
      "min             0 days 00:00:17\n",
      "25%             2 days 00:26:18\n",
      "50%             3 days 23:05:12\n",
      "75%      6 days 05:07:38.500000\n",
      "max           106 days 12:48:50\n",
      "dtype: object\n"
     ]
    },
    {
     "data": {
      "text/plain": [
       "Timedelta('5 days 06:43:32.021831')"
      ]
     },
     "execution_count": 63,
     "metadata": {},
     "output_type": "execute_result"
    }
   ],
   "source": [
    "# cases in the United States where the disbursal is made after the loan is funded\n",
    "usa_dt_ft_pos = dt_ft_pos[dt_ft_pos['country_name'] == 'United States']\n",
    "\n",
    "# delay values \n",
    "delay_usa = (usa_dt_ft_pos['disbursed_time'] - usa_dt_ft_pos['funded_time'])\n",
    "\n",
    "# description of the delay to disburse in the United States\n",
    "print(delay_usa.describe())\n",
    "\n",
    "# I will consider the mean value for the typical delay to disburse in the United States\n",
    "delay_usa.mean()"
   ]
  },
  {
   "cell_type": "code",
   "execution_count": 64,
   "metadata": {},
   "outputs": [
    {
     "data": {
      "text/plain": [
       "count                          55\n",
       "mean     248 days 10:26:48.945454\n",
       "std      398 days 00:49:45.201273\n",
       "min              78 days 20:59:20\n",
       "25%       80 days 17:18:49.500000\n",
       "50%              82 days 14:37:29\n",
       "75%              99 days 17:58:27\n",
       "max            1927 days 06:24:45\n",
       "Name: funded_time, dtype: object"
      ]
     },
     "execution_count": 64,
     "metadata": {},
     "output_type": "execute_result"
    }
   ],
   "source": [
    "# missing values filtered by country: United States\n",
    "usa = missing_disb[missing_disb['country_name'] == 'United States']\n",
    "\n",
    "# description of the delay of disbursal, in the United States, after the loan is funded \n",
    "(max(data['disbursed_time']) - usa['funded_time']).describe()"
   ]
  },
  {
   "cell_type": "markdown",
   "metadata": {},
   "source": [
    "##### Kenya"
   ]
  },
  {
   "cell_type": "code",
   "execution_count": 65,
   "metadata": {},
   "outputs": [
    {
     "name": "stdout",
     "output_type": "stream",
     "text": [
      "count                      20659\n",
      "mean     17 days 11:42:49.691708\n",
      "std      17 days 07:31:00.633473\n",
      "min              0 days 00:02:00\n",
      "25%              5 days 06:34:47\n",
      "50%             13 days 12:58:22\n",
      "75%      24 days 14:37:12.500000\n",
      "max            182 days 08:31:57\n",
      "dtype: object\n"
     ]
    },
    {
     "data": {
      "text/plain": [
       "Timedelta('17 days 11:42:49.691708')"
      ]
     },
     "execution_count": 65,
     "metadata": {},
     "output_type": "execute_result"
    }
   ],
   "source": [
    "# cases in Kenya where the disbursal is made after the loan is funded\n",
    "kenya_dt_ft_pos = dt_ft_pos[dt_ft_pos['country_name'] == 'Kenya']\n",
    "\n",
    "# delay values \n",
    "delay_kenya = (kenya_dt_ft_pos['disbursed_time'] - kenya_dt_ft_pos['funded_time'])\n",
    "\n",
    "# description of the delay to disburse in Kenya\n",
    "print(delay_kenya.describe())\n",
    "\n",
    "# I will consider the mean value for the typical delay to disburse in Kenya\n",
    "delay_kenya.mean()"
   ]
  },
  {
   "cell_type": "code",
   "execution_count": 66,
   "metadata": {},
   "outputs": [
    {
     "data": {
      "text/plain": [
       "count                          216\n",
       "mean     1011 days 06:15:02.481481\n",
       "std       147 days 12:35:07.238205\n",
       "min              914 days 11:19:07\n",
       "25%              921 days 01:30:39\n",
       "50%       942 days 19:49:48.500000\n",
       "75%             1023 days 09:07:22\n",
       "max             1600 days 10:20:21\n",
       "Name: funded_time, dtype: object"
      ]
     },
     "execution_count": 66,
     "metadata": {},
     "output_type": "execute_result"
    }
   ],
   "source": [
    "# missing values filtered by country: Kenya\n",
    "kenya = missing_disb[missing_disb['country_name'] == 'Kenya']\n",
    "\n",
    "# description of the delay of disbursal, in Kenya, after the loan is funded\n",
    "(max(data['disbursed_time']) - kenya['funded_time']).describe()"
   ]
  },
  {
   "cell_type": "markdown",
   "metadata": {},
   "source": [
    "In Kenya, they are all off the scale, even more than in the USA. \n",
    "\n",
    "I will remove them from analysis, both USA and Kenya values."
   ]
  },
  {
   "cell_type": "code",
   "execution_count": 67,
   "metadata": {},
   "outputs": [
    {
     "data": {
      "text/plain": [
       "(1419122, 21)"
      ]
     },
     "execution_count": 67,
     "metadata": {},
     "output_type": "execute_result"
    }
   ],
   "source": [
    "# removing the rows\n",
    "data = data.drop(missing_disb.index)\n",
    "\n",
    "# new shape\n",
    "data.shape"
   ]
  },
  {
   "cell_type": "markdown",
   "metadata": {},
   "source": [
    "## 2) Exploratory Data Analysis"
   ]
  },
  {
   "cell_type": "markdown",
   "metadata": {},
   "source": [
    "**Continuation: EDA + Final data wrangling for modeling:**\n",
    "    \n",
    "* https://github.com/MigBap/Springboard-Capstone-Project-I/blob/master/Capstone%20Project%20I%20--%20%202)%20Exploratory%20Data%20Analysis.ipynb"
   ]
  },
  {
   "cell_type": "markdown",
   "metadata": {},
   "source": [
    "## 3) Modeling"
   ]
  },
  {
   "cell_type": "markdown",
   "metadata": {},
   "source": [
    "**Continuation: Modeling:**\n",
    "    \n",
    "* https://github.com/MigBap/Springboard-Capstone-Project-I/blob/master/Capstone%20Project%20I%20--%20%203)%20Modeling.ipynb"
   ]
  },
  {
   "cell_type": "code",
   "execution_count": null,
   "metadata": {},
   "outputs": [],
   "source": []
  }
 ],
 "metadata": {
  "kernelspec": {
   "display_name": "Python 3",
   "language": "python",
   "name": "python3"
  },
  "language_info": {
   "codemirror_mode": {
    "name": "ipython",
    "version": 3
   },
   "file_extension": ".py",
   "mimetype": "text/x-python",
   "name": "python",
   "nbconvert_exporter": "python",
   "pygments_lexer": "ipython3",
   "version": "3.7.1"
  }
 },
 "nbformat": 4,
 "nbformat_minor": 2
}
